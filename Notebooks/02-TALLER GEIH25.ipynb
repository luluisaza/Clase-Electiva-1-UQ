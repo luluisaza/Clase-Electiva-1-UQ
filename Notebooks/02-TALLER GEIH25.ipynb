{
 "cells": [
  {
   "cell_type": "code",
   "execution_count": 75,
   "id": "18f92305",
   "metadata": {},
   "outputs": [],
   "source": [
    "import pandas as pd\n",
    "import numpy as np"
   ]
  },
  {
   "cell_type": "code",
   "execution_count": 76,
   "id": "4295115e",
   "metadata": {},
   "outputs": [],
   "source": [
    "# Links a los conjuntos de datos\n",
    "url_cgsse = 'https://github.com/niconomist98/DataAnalyticsUQ/raw/refs/heads/main/Datos/GEIH2025/cgsse.CSV'\n",
    "url_ocupados = 'https://github.com/niconomist98/DataAnalyticsUQ/raw/refs/heads/main/Datos/GEIH2025/Ocupados.CSV'\n",
    "url_ft = 'https://github.com/niconomist98/DataAnalyticsUQ/raw/refs/heads/main/Datos/GEIH2025/Fuerza%20de%20trabajo.CSV'\n",
    "url_desocupados = 'https://github.com/niconomist98/DataAnalyticsUQ/raw/refs/heads/main/Datos/GEIH2025/No%20ocupados.CSV'\n",
    "\n",
    "# CGSSE\n",
    "df_cgsse = pd.read_csv(url_cgsse, encoding='latin-1', sep=';', low_memory=False)\n",
    "\n",
    "#Ocupados\n",
    "df_ocupados=pd.read_csv(url_ocupados,encoding='latin-1',sep=';',\n",
    "                        low_memory=False)\n",
    "\n",
    "#Fuerza de trabajo\n",
    "df_ft=pd.read_csv(url_ft,\n",
    "                  encoding='latin-1',sep=';',low_memory=False)\n",
    "#No ocupados\n",
    "df_desocupados=pd.read_csv(url_desocupados,encoding='latin-1',\n",
    "                           sep=';',low_memory=False)"
   ]
  },
  {
   "cell_type": "markdown",
   "id": "50c23388",
   "metadata": {},
   "source": [
    "PREGUNTA 1"
   ]
  },
  {
   "cell_type": "code",
   "execution_count": 77,
   "id": "170b29dc",
   "metadata": {},
   "outputs": [
    {
     "name": "stdout",
     "output_type": "stream",
     "text": [
      "Población total: 52045001\n"
     ]
    }
   ],
   "source": [
    "# Calcular población total\n",
    "PT = int(df_cgsse['FEX_C18'].sum())\n",
    "print(f'Población total: {PT}')"
   ]
  },
  {
   "cell_type": "code",
   "execution_count": 78,
   "id": "5733cc04",
   "metadata": {},
   "outputs": [
    {
     "name": "stdout",
     "output_type": "stream",
     "text": [
      "Población en edad de trabajar : 40653416\n"
     ]
    }
   ],
   "source": [
    "# Calcular población en edad de trabajar \n",
    "PET = int(df_cgsse[df_cgsse['P6040'] >= 15]['FEX_C18'].sum())\n",
    "print(f'Población en edad de trabajar : {PET}')"
   ]
  },
  {
   "cell_type": "code",
   "execution_count": 79,
   "id": "4f9d5080",
   "metadata": {},
   "outputs": [
    {
     "name": "stdout",
     "output_type": "stream",
     "text": [
      "Población que no está en edad de trabajar: 11391585\n"
     ]
    }
   ],
   "source": [
    " # Calcular población que no está en edad de trabajar\n",
    "PNET = int(df_cgsse[df_cgsse['P6040'] < 15]['FEX_C18'].sum())\n",
    "print(f'Población que no está en edad de trabajar: {PNET}')"
   ]
  },
  {
   "cell_type": "code",
   "execution_count": 80,
   "id": "59caafcb",
   "metadata": {},
   "outputs": [
    {
     "name": "stdout",
     "output_type": "stream",
     "text": [
      "Población económicamente activa: 40653416\n"
     ]
    }
   ],
   "source": [
    "# Población económicamente activa\n",
    "PET = int(df_ft['FEX_C18'].sum())\n",
    "print(f'Población económicamente activa: {PET}')"
   ]
  },
  {
   "cell_type": "code",
   "execution_count": 81,
   "id": "d551439e",
   "metadata": {},
   "outputs": [
    {
     "name": "stdout",
     "output_type": "stream",
     "text": [
      "Población económicamente inactiva: 11391585\n"
     ]
    }
   ],
   "source": [
    "# Población económicamnete inactiva\n",
    "PEI = PT - PET\n",
    "print(f'Población económicamente inactiva: {PEI}')"
   ]
  },
  {
   "cell_type": "code",
   "execution_count": 82,
   "id": "9aa6752e",
   "metadata": {},
   "outputs": [
    {
     "name": "stdout",
     "output_type": "stream",
     "text": [
      "Población ocupada: 23752952\n",
      "Tasa de ocupación: 58.43%\n"
     ]
    }
   ],
   "source": [
    "# Tasa de ocupación\n",
    "O = int(df_ocupados['FEX_C18'].sum())\n",
    "print(f'Población ocupada: {O}')\n",
    "\n",
    "TO = (O / PET)\n",
    "print(f'Tasa de ocupación: {TO:.2%}')"
   ]
  },
  {
   "cell_type": "code",
   "execution_count": 83,
   "id": "bc46a042",
   "metadata": {},
   "outputs": [
    {
     "name": "stdout",
     "output_type": "stream",
     "text": [
      "Población económicamente activa: 25974846\n",
      "Población económicamente inactiva: 14678569\n",
      "Población desocupada: 2221893\n",
      "Tasa de desempleo: 8.55%\n"
     ]
    }
   ],
   "source": [
    "# Tasa de desempleo\n",
    "PEA = int(df_ft[df_ft['FT']==1]['FEX_C18'].sum())\n",
    "print(f'Población económicamente activa: {PEA}')\n",
    "\n",
    "PEI = int(df_ft[df_ft['FFT']==1]['FEX_C18'].sum())\n",
    "print(f'Población económicamente inactiva: {PEI}')\n",
    "\n",
    "D = int(df_desocupados[df_desocupados['DSI']==1]['FEX_C18'].sum())\n",
    "print(f'Población desocupada: {D}')\n",
    "\n",
    "TD = (D / PEA)\n",
    "print(f'Tasa de desempleo: {TD:.2%}')\n"
   ]
  },
  {
   "cell_type": "markdown",
   "id": "59d89993",
   "metadata": {},
   "source": [
    "PREGUNTA 2"
   ]
  },
  {
   "cell_type": "code",
   "execution_count": 98,
   "id": "47244fc3",
   "metadata": {},
   "outputs": [
    {
     "name": "stdout",
     "output_type": "stream",
     "text": [
      "Población desocupada hombres Caldas: 18226.160047418998\n",
      "Población desocupada mujeres Caldas: 17214.491449226003\n",
      "Población económicamente activa hombres Caldas: 326447.467769983\n",
      "Población económicamente activa mujeres Caldas: 224206.533775\n",
      "Tasa de desempleo hombres Caldas: 5.58%\n",
      "Tasa de desempleo mujeres Caldas: 7.68%\n"
     ]
    }
   ],
   "source": [
    "# Tasas de desempleo para hombres y mujeres en Caldas\n",
    "df_d_genero= pd.merge(df_desocupados, df_cgsse[['DIRECTORIO','SECUENCIA_P','ORDEN','P3271']], \n",
    "                      on=['DIRECTORIO','SECUENCIA_P','ORDEN'], how='left')\n",
    "df_ft_genero= pd.merge(df_ft, df_cgsse[['DIRECTORIO','SECUENCIA_P','ORDEN','P3271']], \n",
    "                      on=['DIRECTORIO','SECUENCIA_P','ORDEN'], how='left')\n",
    "\n",
    "HDC = df_d_genero[(df_d_genero['DSI']==1) & (df_d_genero['DPTO']==17) & (df_d_genero['P3271']==1)]['FEX_C18'].sum()\n",
    "print(f'Población desocupada hombres Caldas: {HDC}')\n",
    "\n",
    "MDC = df_d_genero[(df_d_genero['DSI']==1) & (df_d_genero['DPTO']==17) & (df_d_genero['P3271']==2)]['FEX_C18'].sum()\n",
    "print(f'Población desocupada mujeres Caldas: {MDC}')\n",
    "\n",
    "PEA_HC = df_ft_genero[(df_ft_genero['FT']==1) & (df_ft_genero['DPTO']==17) & (df_ft_genero['P3271']==1)]['FEX_C18'].sum()\n",
    "print(f'Población económicamente activa hombres Caldas: {PEA_HC}')\n",
    "\n",
    "PEA_MC = df_ft_genero[(df_ft_genero['FT']==1) & (df_ft_genero['DPTO']==17) & (df_ft_genero['P3271']==2)]['FEX_C18'].sum()\n",
    "print(f'Población económicamente activa mujeres Caldas: {PEA_MC}')\n",
    "\n",
    "TD_HC = HDC / PEA_HC\n",
    "print(f'Tasa de desempleo hombres Caldas: {TD_HC:.2%}')\n",
    "\n",
    "TD_MC = MDC / PEA_MC\n",
    "print(f'Tasa de desempleo mujeres Caldas: {TD_MC:.2%}')"
   ]
  },
  {
   "cell_type": "code",
   "execution_count": 103,
   "id": "09136c7a",
   "metadata": {},
   "outputs": [
    {
     "name": "stdout",
     "output_type": "stream",
     "text": [
      "Población desocupada hombres Quindío: 17869.520960767004\n",
      "Población desocupada mujeres Quindío: 10618.534945967001\n",
      "Población económicamente activa hombres Quindío: 174625.87195169798\n",
      "Población económicamente activa mujeres Quindío: 116885.879263648\n",
      "Tasa de desempleo hombres Quindío: 10.23%\n",
      "Tasa de desempleo mujeres Quindío: 9.08%\n"
     ]
    }
   ],
   "source": [
    "# Tasas de desempleo para hombres y mujeres en Quindío\n",
    "df_d_genero= pd.merge(df_desocupados, df_cgsse[['DIRECTORIO','SECUENCIA_P','ORDEN','P3271']], \n",
    "                      on=['DIRECTORIO','SECUENCIA_P','ORDEN'], how='left')\n",
    "df_ft_genero= pd.merge(df_ft, df_cgsse[['DIRECTORIO','SECUENCIA_P','ORDEN','P3271']], \n",
    "                      on=['DIRECTORIO','SECUENCIA_P','ORDEN'], how='left')\n",
    "\n",
    "HDQ = df_d_genero[(df_d_genero['DSI']==1) & (df_d_genero['DPTO']==63) & (df_d_genero['P3271']==1)]['FEX_C18'].sum()\n",
    "print(f'Población desocupada hombres Quindío: {HDQ}')\n",
    "\n",
    "MDQ = df_d_genero[(df_d_genero['DSI']==1) & (df_d_genero['DPTO']==63) & (df_d_genero['P3271']==2)]['FEX_C18'].sum()\n",
    "print(f'Población desocupada mujeres Quindío: {MDQ}')\n",
    "\n",
    "PEA_HQ = df_ft_genero[(df_ft_genero['FT']==1) & (df_ft_genero['DPTO']==63) & (df_ft_genero['P3271']==1)]['FEX_C18'].sum()\n",
    "print(f'Población económicamente activa hombres Quindío: {PEA_HQ}')\n",
    "\n",
    "PEA_MQ = df_ft_genero[(df_ft_genero['FT']==1) & (df_ft_genero['DPTO']==63) & (df_ft_genero['P3271']==2)]['FEX_C18'].sum()\n",
    "print(f'Población económicamente activa mujeres Quindío: {PEA_MQ}')\n",
    "\n",
    "TD_HQ = HDQ / PEA_HQ\n",
    "print(f'Tasa de desempleo hombres Quindío: {TD_HQ:.2%}')\n",
    "\n",
    "TD_MQ = MDQ / PEA_MQ\n",
    "print(f'Tasa de desempleo mujeres Quindío: {TD_MQ:.2%}')"
   ]
  },
  {
   "cell_type": "code",
   "execution_count": 105,
   "id": "3c997d96",
   "metadata": {},
   "outputs": [
    {
     "name": "stdout",
     "output_type": "stream",
     "text": [
      "Población desocupada hombres Risaralda: 18000.60370715\n",
      "Población desocupada mujeres Risaralda: 21676.799766712\n",
      "Población económicamente activa hombres Risaralda: 296342.328368219\n",
      "Población económicamente activa mujeres Risaralda: 203157.903399127\n",
      "Tasa de desempleo hombres Risaralda: 6.07%\n",
      "Tasa de desempleo mujeres Risaralda: 10.67%\n"
     ]
    }
   ],
   "source": [
    "# Tasas de desempleo para hombres y mujeres en Risaralda\n",
    "df_d_genero= pd.merge(df_desocupados, df_cgsse[['DIRECTORIO','SECUENCIA_P','ORDEN','P3271']], \n",
    "                      on=['DIRECTORIO','SECUENCIA_P','ORDEN'], how='left')\n",
    "df_ft_genero= pd.merge(df_ft, df_cgsse[['DIRECTORIO','SECUENCIA_P','ORDEN','P3271']], \n",
    "                      on=['DIRECTORIO','SECUENCIA_P','ORDEN'], how='left')\n",
    "\n",
    "HDR = df_d_genero[(df_d_genero['DSI']==1) & (df_d_genero['DPTO']==66) & (df_d_genero['P3271']==1)]['FEX_C18'].sum()\n",
    "print(f'Población desocupada hombres Risaralda: {HDR}')\n",
    "\n",
    "MDR = df_d_genero[(df_d_genero['DSI']==1) & (df_d_genero['DPTO']==66) & (df_d_genero['P3271']==2)]['FEX_C18'].sum()\n",
    "print(f'Población desocupada mujeres Risaralda: {MDR}')\n",
    "\n",
    "PEA_HR = df_ft_genero[(df_ft_genero['FT']==1) & (df_ft_genero['DPTO']==66) & (df_ft_genero['P3271']==1)]['FEX_C18'].sum()\n",
    "print(f'Población económicamente activa hombres Risaralda: {PEA_HR}')\n",
    "\n",
    "PEA_MR = df_ft_genero[(df_ft_genero['FT']==1) & (df_ft_genero['DPTO']==66) & (df_ft_genero['P3271']==2)]['FEX_C18'].sum()\n",
    "print(f'Población económicamente activa mujeres Risaralda: {PEA_MR}')\n",
    "\n",
    "TD_HR = HDR / PEA_HR\n",
    "print(f'Tasa de desempleo hombres Risaralda: {TD_HR:.2%}')\n",
    "\n",
    "TD_MR = MDR / PEA_MR\n",
    "print(f'Tasa de desempleo mujeres Risaralda: {TD_MR:.2%}')"
   ]
  }
 ],
 "metadata": {
  "kernelspec": {
   "display_name": "Python 3",
   "language": "python",
   "name": "python3"
  },
  "language_info": {
   "codemirror_mode": {
    "name": "ipython",
    "version": 3
   },
   "file_extension": ".py",
   "mimetype": "text/x-python",
   "name": "python",
   "nbconvert_exporter": "python",
   "pygments_lexer": "ipython3",
   "version": "3.12.1"
  }
 },
 "nbformat": 4,
 "nbformat_minor": 5
}

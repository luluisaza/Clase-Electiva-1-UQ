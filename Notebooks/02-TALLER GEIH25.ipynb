{
 "cells": [
  {
   "cell_type": "code",
   "execution_count": 64,
   "id": "18f92305",
   "metadata": {},
   "outputs": [],
   "source": [
    "import pandas as pd\n",
    "import numpy as np"
   ]
  },
  {
   "cell_type": "code",
   "execution_count": 65,
   "id": "4295115e",
   "metadata": {},
   "outputs": [],
   "source": [
    "# Links a los conjuntos de datos\n",
    "url_cgsse = 'https://github.com/niconomist98/DataAnalyticsUQ/raw/refs/heads/main/Datos/GEIH2025/cgsse.CSV'\n",
    "url_ocupados = 'https://github.com/niconomist98/DataAnalyticsUQ/raw/refs/heads/main/Datos/GEIH2025/Ocupados.CSV'\n",
    "url_ft = 'https://github.com/niconomist98/DataAnalyticsUQ/raw/refs/heads/main/Datos/GEIH2025/Fuerza%20de%20trabajo.CSV'\n",
    "url_desocupados = 'https://github.com/niconomist98/DataAnalyticsUQ/raw/refs/heads/main/Datos/GEIH2025/No%20ocupados.CSV'\n",
    "\n",
    "# CGSSE\n",
    "df_cgsse = pd.read_csv(url_cgsse, encoding='latin-1', sep=';', low_memory=False)\n",
    "\n",
    "#Ocupados\n",
    "df_ocupados=pd.read_csv(url_ocupados,encoding='latin-1',sep=';',\n",
    "                        low_memory=False)\n",
    "\n",
    "#Fuerza de trabajo\n",
    "df_ft=pd.read_csv(url_ft,\n",
    "                  encoding='latin-1',sep=';',low_memory=False)\n",
    "#No ocupados\n",
    "df_desocupados=pd.read_csv(url_desocupados,encoding='latin-1',\n",
    "                           sep=';',low_memory=False)"
   ]
  },
  {
   "cell_type": "markdown",
   "id": "50c23388",
   "metadata": {},
   "source": [
    "PREGUNTA 1"
   ]
  },
  {
   "cell_type": "code",
   "execution_count": 66,
   "id": "170b29dc",
   "metadata": {},
   "outputs": [
    {
     "name": "stdout",
     "output_type": "stream",
     "text": [
      "Población total: 52045001\n"
     ]
    }
   ],
   "source": [
    "# Calcular población total\n",
    "\n",
    "PT = int(df_cgsse['FEX_C18'].sum())\n",
    "print(f'Población total: {PT}')"
   ]
  },
  {
   "cell_type": "code",
   "execution_count": 67,
   "id": "5733cc04",
   "metadata": {},
   "outputs": [
    {
     "name": "stdout",
     "output_type": "stream",
     "text": [
      "Población en edad de trabajar : 40653416\n"
     ]
    }
   ],
   "source": [
    "# Calcular población en edad de trabajar \n",
    "\n",
    "PET = int(df_cgsse[df_cgsse['P6040'] >= 15]['FEX_C18'].sum())\n",
    "print(f'Población en edad de trabajar : {PET}')"
   ]
  },
  {
   "cell_type": "code",
   "execution_count": 68,
   "id": "4f9d5080",
   "metadata": {},
   "outputs": [
    {
     "name": "stdout",
     "output_type": "stream",
     "text": [
      "Población que no está en edad de trabajar: 11391585\n"
     ]
    }
   ],
   "source": [
    " # Calcular población que no está en edad de trabajar\n",
    "\n",
    "PNET = int(df_cgsse[df_cgsse['P6040'] < 15]['FEX_C18'].sum())\n",
    "print(f'Población que no está en edad de trabajar: {PNET}')"
   ]
  },
  {
   "cell_type": "code",
   "execution_count": 69,
   "id": "59caafcb",
   "metadata": {},
   "outputs": [
    {
     "name": "stdout",
     "output_type": "stream",
     "text": [
      "Población económicamente activa: 40653416\n"
     ]
    }
   ],
   "source": [
    "# Población económicamente activa\n",
    "\n",
    "PET = int(df_ft['FEX_C18'].sum())\n",
    "print(f'Población económicamente activa: {PET}')"
   ]
  },
  {
   "cell_type": "code",
   "execution_count": 70,
   "id": "d551439e",
   "metadata": {},
   "outputs": [
    {
     "name": "stdout",
     "output_type": "stream",
     "text": [
      "Población económicamente inactiva: 11391585\n"
     ]
    }
   ],
   "source": [
    "# Población económicamnete inactiva\n",
    "\n",
    "PEI = PT - PET\n",
    "print(f'Población económicamente inactiva: {PEI}')"
   ]
  },
  {
   "cell_type": "code",
   "execution_count": 71,
   "id": "9aa6752e",
   "metadata": {},
   "outputs": [
    {
     "name": "stdout",
     "output_type": "stream",
     "text": [
      "Población ocupada: 23752952\n",
      "Tasa de ocupación: 58.43%\n"
     ]
    }
   ],
   "source": [
    "# Tasa de ocupación\n",
    "\n",
    "O = int(df_ocupados['FEX_C18'].sum())\n",
    "print(f'Población ocupada: {O}')\n",
    "\n",
    "TO = (O / PET)\n",
    "print(f'Tasa de ocupación: {TO:.2%}')"
   ]
  },
  {
   "cell_type": "code",
   "execution_count": 72,
   "id": "bc46a042",
   "metadata": {},
   "outputs": [
    {
     "name": "stdout",
     "output_type": "stream",
     "text": [
      "Población económicamente activa: 25974846\n",
      "Población económicamente inactiva: 14678569\n",
      "Población desocupada: 2221893\n",
      "Tasa de desempleo: 8.55%\n"
     ]
    }
   ],
   "source": [
    "# Tasa de desempleo\n",
    "\n",
    "PEA = int(df_ft[df_ft['FT']==1]['FEX_C18'].sum())\n",
    "print(f'Población económicamente activa: {PEA}')\n",
    "\n",
    "PEI = int(df_ft[df_ft['FFT']==1]['FEX_C18'].sum())\n",
    "print(f'Población económicamente inactiva: {PEI}')\n",
    "\n",
    "D = int(df_desocupados[df_desocupados['DSI']==1]['FEX_C18'].sum())\n",
    "print(f'Población desocupada: {D}')\n",
    "\n",
    "TD = (D / PEA)\n",
    "print(f'Tasa de desempleo: {TD:.2%}')\n"
   ]
  },
  {
   "cell_type": "markdown",
   "id": "59d89993",
   "metadata": {},
   "source": [
    "PREGUNTA 2"
   ]
  },
  {
   "cell_type": "code",
   "execution_count": 73,
   "id": "47244fc3",
   "metadata": {},
   "outputs": [
    {
     "name": "stdout",
     "output_type": "stream",
     "text": [
      "Población desocupada hombres Caldas: 18226.160047418998\n",
      "Población desocupada mujeres Caldas: 17214.491449226003\n",
      "Población económicamente activa hombres Caldas: 326447.467769983\n",
      "Población económicamente activa mujeres Caldas: 224206.533775\n",
      "Tasa de desempleo hombres Caldas: 5.58%\n",
      "Tasa de desempleo mujeres Caldas: 7.68%\n"
     ]
    }
   ],
   "source": [
    "# Tasas de desempleo para hombres y mujeres en Caldas\n",
    "\n",
    "df_d_genero= pd.merge(df_desocupados, df_cgsse[['DIRECTORIO','SECUENCIA_P','ORDEN','P3271']], \n",
    "                      on=['DIRECTORIO','SECUENCIA_P','ORDEN'], how='left')\n",
    "df_ft_genero= pd.merge(df_ft, df_cgsse[['DIRECTORIO','SECUENCIA_P','ORDEN','P3271']], \n",
    "                      on=['DIRECTORIO','SECUENCIA_P','ORDEN'], how='left')\n",
    "\n",
    "HDC = df_d_genero[(df_d_genero['DSI']==1) & (df_d_genero['DPTO']==17) & (df_d_genero['P3271']==1)]['FEX_C18'].sum()\n",
    "print(f'Población desocupada hombres Caldas: {HDC}')\n",
    "\n",
    "MDC = df_d_genero[(df_d_genero['DSI']==1) & (df_d_genero['DPTO']==17) & (df_d_genero['P3271']==2)]['FEX_C18'].sum()\n",
    "print(f'Población desocupada mujeres Caldas: {MDC}')\n",
    "\n",
    "PEA_HC = df_ft_genero[(df_ft_genero['FT']==1) & (df_ft_genero['DPTO']==17) & (df_ft_genero['P3271']==1)]['FEX_C18'].sum()\n",
    "print(f'Población económicamente activa hombres Caldas: {PEA_HC}')\n",
    "\n",
    "PEA_MC = df_ft_genero[(df_ft_genero['FT']==1) & (df_ft_genero['DPTO']==17) & (df_ft_genero['P3271']==2)]['FEX_C18'].sum()\n",
    "print(f'Población económicamente activa mujeres Caldas: {PEA_MC}')\n",
    "\n",
    "TD_HC = HDC / PEA_HC\n",
    "print(f'Tasa de desempleo hombres Caldas: {TD_HC:.2%}')\n",
    "\n",
    "TD_MC = MDC / PEA_MC\n",
    "print(f'Tasa de desempleo mujeres Caldas: {TD_MC:.2%}')"
   ]
  },
  {
   "cell_type": "code",
   "execution_count": 74,
   "id": "09136c7a",
   "metadata": {},
   "outputs": [
    {
     "name": "stdout",
     "output_type": "stream",
     "text": [
      "Población desocupada hombres Quindío: 17869.520960767004\n",
      "Población desocupada mujeres Quindío: 10618.534945967001\n",
      "Población económicamente activa hombres Quindío: 174625.87195169798\n",
      "Población económicamente activa mujeres Quindío: 116885.879263648\n",
      "Tasa de desempleo hombres Quindío: 10.23%\n",
      "Tasa de desempleo mujeres Quindío: 9.08%\n"
     ]
    }
   ],
   "source": [
    "# Tasas de desempleo para hombres y mujeres en Quindío\n",
    "\n",
    "df_d_genero= pd.merge(df_desocupados, df_cgsse[['DIRECTORIO','SECUENCIA_P','ORDEN','P3271']], \n",
    "                      on=['DIRECTORIO','SECUENCIA_P','ORDEN'], how='left')\n",
    "df_ft_genero= pd.merge(df_ft, df_cgsse[['DIRECTORIO','SECUENCIA_P','ORDEN','P3271']], \n",
    "                      on=['DIRECTORIO','SECUENCIA_P','ORDEN'], how='left')\n",
    "\n",
    "HDQ = df_d_genero[(df_d_genero['DSI']==1) & (df_d_genero['DPTO']==63) & (df_d_genero['P3271']==1)]['FEX_C18'].sum()\n",
    "print(f'Población desocupada hombres Quindío: {HDQ}')\n",
    "\n",
    "MDQ = df_d_genero[(df_d_genero['DSI']==1) & (df_d_genero['DPTO']==63) & (df_d_genero['P3271']==2)]['FEX_C18'].sum()\n",
    "print(f'Población desocupada mujeres Quindío: {MDQ}')\n",
    "\n",
    "PEA_HQ = df_ft_genero[(df_ft_genero['FT']==1) & (df_ft_genero['DPTO']==63) & (df_ft_genero['P3271']==1)]['FEX_C18'].sum()\n",
    "print(f'Población económicamente activa hombres Quindío: {PEA_HQ}')\n",
    "\n",
    "PEA_MQ = df_ft_genero[(df_ft_genero['FT']==1) & (df_ft_genero['DPTO']==63) & (df_ft_genero['P3271']==2)]['FEX_C18'].sum()\n",
    "print(f'Población económicamente activa mujeres Quindío: {PEA_MQ}')\n",
    "\n",
    "TD_HQ = HDQ / PEA_HQ\n",
    "print(f'Tasa de desempleo hombres Quindío: {TD_HQ:.2%}')\n",
    "\n",
    "TD_MQ = MDQ / PEA_MQ\n",
    "print(f'Tasa de desempleo mujeres Quindío: {TD_MQ:.2%}')"
   ]
  },
  {
   "cell_type": "code",
   "execution_count": 75,
   "id": "3c997d96",
   "metadata": {},
   "outputs": [
    {
     "name": "stdout",
     "output_type": "stream",
     "text": [
      "Población desocupada hombres Risaralda: 18000.60370715\n",
      "Población desocupada mujeres Risaralda: 21676.799766712\n",
      "Población económicamente activa hombres Risaralda: 296342.328368219\n",
      "Población económicamente activa mujeres Risaralda: 203157.903399127\n",
      "Tasa de desempleo hombres Risaralda: 6.07%\n",
      "Tasa de desempleo mujeres Risaralda: 10.67%\n"
     ]
    }
   ],
   "source": [
    "# Tasas de desempleo para hombres y mujeres en Risaralda\n",
    "\n",
    "df_d_genero= pd.merge(df_desocupados, df_cgsse[['DIRECTORIO','SECUENCIA_P','ORDEN','P3271']], \n",
    "                      on=['DIRECTORIO','SECUENCIA_P','ORDEN'], how='left')\n",
    "df_ft_genero= pd.merge(df_ft, df_cgsse[['DIRECTORIO','SECUENCIA_P','ORDEN','P3271']], \n",
    "                      on=['DIRECTORIO','SECUENCIA_P','ORDEN'], how='left')\n",
    "\n",
    "HDR = df_d_genero[(df_d_genero['DSI']==1) & (df_d_genero['DPTO']==66) & (df_d_genero['P3271']==1)]['FEX_C18'].sum()\n",
    "print(f'Población desocupada hombres Risaralda: {HDR}')\n",
    "\n",
    "MDR = df_d_genero[(df_d_genero['DSI']==1) & (df_d_genero['DPTO']==66) & (df_d_genero['P3271']==2)]['FEX_C18'].sum()\n",
    "print(f'Población desocupada mujeres Risaralda: {MDR}')\n",
    "\n",
    "PEA_HR = df_ft_genero[(df_ft_genero['FT']==1) & (df_ft_genero['DPTO']==66) & (df_ft_genero['P3271']==1)]['FEX_C18'].sum()\n",
    "print(f'Población económicamente activa hombres Risaralda: {PEA_HR}')\n",
    "\n",
    "PEA_MR = df_ft_genero[(df_ft_genero['FT']==1) & (df_ft_genero['DPTO']==66) & (df_ft_genero['P3271']==2)]['FEX_C18'].sum()\n",
    "print(f'Población económicamente activa mujeres Risaralda: {PEA_MR}')\n",
    "\n",
    "TD_HR = HDR / PEA_HR\n",
    "print(f'Tasa de desempleo hombres Risaralda: {TD_HR:.2%}')\n",
    "\n",
    "TD_MR = MDR / PEA_MR\n",
    "print(f'Tasa de desempleo mujeres Risaralda: {TD_MR:.2%}')"
   ]
  },
  {
   "cell_type": "markdown",
   "id": "f6c90878",
   "metadata": {},
   "source": [
    "PREGUNTA 3"
   ]
  },
  {
   "cell_type": "markdown",
   "id": "021986c0",
   "metadata": {},
   "source": [
    "Tasa de desempleo por grupos de edad en Caldas "
   ]
  },
  {
   "cell_type": "code",
   "execution_count": 76,
   "id": "7c3896b4",
   "metadata": {},
   "outputs": [
    {
     "name": "stdout",
     "output_type": "stream",
     "text": [
      "Población desocupada entre 18 y 24 años en Caldas: 6259.083688154001\n",
      "Población económicamente activa entre 18 y 24 años en Caldas: 66978.254075637\n",
      "Tasa de desempleo entre 18 y 24 años en Caldas: 9.34%\n"
     ]
    }
   ],
   "source": [
    "# Grupo de edad de los 18 a los 24 años\n",
    "\n",
    "# 1. La población desocupada en Caldas para este grupo de edad\n",
    "\n",
    "df_d_edad= pd.merge(df_desocupados, df_cgsse[['DIRECTORIO','SECUENCIA_P','ORDEN','P6040']], \n",
    "                      on=['DIRECTORIO','SECUENCIA_P','ORDEN'], how='left')\n",
    "df_ft_edad= pd.merge(df_ft, df_cgsse[['DIRECTORIO','SECUENCIA_P','ORDEN','P6040']], \n",
    "                      on=['DIRECTORIO','SECUENCIA_P','ORDEN'], how='left')\n",
    "\n",
    "D_1824= df_d_edad[(df_d_edad['DSI'] ==1) & (df_d_edad['P6040'] >= 18) & (df_d_edad['P6040'] <= 24) & (df_d_edad['DPTO'] == 17)]['FEX_C18'].sum()\n",
    "print(f'Población desocupada entre 18 y 24 años en Caldas: {D_1824}')\n",
    "\n",
    "# 2. Cantidad de personas en la PEA en Caldas para este grupo de edad\n",
    "\n",
    "PEA_1824= df_ft_edad[(df_ft_edad['FT'] ==1) & (df_ft_edad['P6040'] >= 18) & (df_ft_edad['P6040'] <= 24) & (df_ft_edad['DPTO'] == 17)]['FEX_C18'].sum()\n",
    "print(f'Población económicamente activa entre 18 y 24 años en Caldas: {PEA_1824}')  \n",
    "\n",
    "# 3. Tasa de desempleo para este grupo de edad en Caldas\n",
    "\n",
    "TD_1824 = D_1824 / PEA_1824\n",
    "print(f'Tasa de desempleo entre 18 y 24 años en Caldas: {TD_1824:.2%}') "
   ]
  },
  {
   "cell_type": "code",
   "execution_count": 77,
   "id": "f2e91c14",
   "metadata": {},
   "outputs": [
    {
     "name": "stdout",
     "output_type": "stream",
     "text": [
      "Población desocupada entre 24 y 30 años en Caldas: 6090.488353998\n",
      "Población económicamente activa entre 24 y 30 años en Caldas: 94541.70353229\n",
      "Tasa de desempleo entre 24 y 30 años en Caldas: 6.44%\n"
     ]
    }
   ],
   "source": [
    "# Grupo de edad de los 24 a los 30 años\n",
    "\n",
    "D_2430= df_d_edad[(df_d_edad['DSI'] ==1) & (df_d_edad['P6040'] >= 24) & (df_d_edad['P6040'] <= 30) & (df_d_edad['DPTO'] == 17)]['FEX_C18'].sum()\n",
    "print(f'Población desocupada entre 24 y 30 años en Caldas: {D_2430}')   \n",
    "\n",
    "# 1. Cantidad de personas en la PEA en Caldas para este grupo de edad   \n",
    "\n",
    "PEA_2430= df_ft_edad[(df_ft_edad['FT'] ==1) & (df_ft_edad['P6040'] >= 24) & (df_ft_edad['P6040'] <= 30) & (df_ft_edad['DPTO'] == 17)]['FEX_C18'].sum()\n",
    "print(f'Población económicamente activa entre 24 y 30 años en Caldas: {PEA_2430}')  \n",
    "\n",
    "# 2. Tasa de desempleo para este grupo de edad en Caldas    \n",
    "\n",
    "TD_2430 = D_2430 / PEA_2430\n",
    "print(f'Tasa de desempleo entre 24 y 30 años en Caldas: {TD_2430:.2%}') "
   ]
  },
  {
   "cell_type": "code",
   "execution_count": 78,
   "id": "870e942f",
   "metadata": {},
   "outputs": [
    {
     "name": "stdout",
     "output_type": "stream",
     "text": [
      "Población desocupada entre 30 y 40 años en Caldas: 7691.5534119310005\n",
      "Población económicamente activa entre 30 y 40 años en Caldas: 134487.41843531598\n",
      "Tasa de desempleo entre 30 y 40 años en Caldas: 5.72%\n"
     ]
    }
   ],
   "source": [
    "# Grupo de edad de los 30 a los 40 años\n",
    "\n",
    "D_3040= df_d_edad[(df_d_edad['DSI'] ==1) & (df_d_edad['P6040'] >= 30) & (df_d_edad['P6040'] <= 40) & (df_d_edad['DPTO'] == 17)]['FEX_C18'].sum()\n",
    "print(f'Población desocupada entre 30 y 40 años en Caldas: {D_3040}')   \n",
    "\n",
    "# 1. Cantidad de personas en la PEA en Caldas para este grupo de edad   \n",
    "\n",
    "PEA_3040= df_ft_edad[(df_ft_edad['FT'] ==1) & (df_ft_edad['P6040'] >= 30) & (df_ft_edad['P6040'] <= 40) & (df_ft_edad['DPTO'] == 17)]['FEX_C18'].sum()\n",
    "print(f'Población económicamente activa entre 30 y 40 años en Caldas: {PEA_3040}')  \n",
    "\n",
    "# 2. Tasa de desempleo para este grupo de edad en Caldas\n",
    "\n",
    "TD_3040 = D_3040 / PEA_3040\n",
    "print(f'Tasa de desempleo entre 30 y 40 años en Caldas: {TD_3040:.2%}')"
   ]
  },
  {
   "cell_type": "code",
   "execution_count": 79,
   "id": "5f2eb5cc",
   "metadata": {},
   "outputs": [
    {
     "name": "stdout",
     "output_type": "stream",
     "text": [
      "Población desocupada entre 40 y 50 años en Caldas: 6318.584371157001\n",
      "Población económicamente activa entre 40 y 50 años en Caldas : 123334.19349942802\n",
      "Tasa de desempleo entre 40 y 50 años en Caldas: 5.12%\n"
     ]
    }
   ],
   "source": [
    "# Grupo de edad de los 40 a los 50 años\n",
    "\n",
    "D_4050= df_d_edad[(df_d_edad['DSI'] ==1) & (df_d_edad['P6040'] >= 40) & (df_d_edad['P6040'] <= 50) & (df_d_edad['DPTO'] == 17)]['FEX_C18'].sum()\n",
    "print(f'Población desocupada entre 40 y 50 años en Caldas: {D_4050}') \n",
    "\n",
    "# 1. Cantidad de personas en la PEA en Caldas para este grupo de edad   \n",
    "\n",
    "PEA_4050= df_ft_edad[(df_ft_edad['FT'] ==1) & (df_ft_edad['P6040'] >= 40) & (df_ft_edad['P6040'] <= 50) & (df_ft_edad['DPTO'] == 17)]['FEX_C18'].sum()\n",
    "print(f'Población económicamente activa entre 40 y 50 años en Caldas : {PEA_4050}')\n",
    "\n",
    "# 2. Tasa de desempleo para este grupo de edad en Caldas   \n",
    "\n",
    "TD_4050 = D_4050 / PEA_4050 \n",
    "print(f'Tasa de desempleo entre 40 y 50 años en Caldas: {TD_4050:.2%}') "
   ]
  },
  {
   "cell_type": "code",
   "execution_count": 80,
   "id": "3e8c804c",
   "metadata": {},
   "outputs": [
    {
     "name": "stdout",
     "output_type": "stream",
     "text": [
      "Población desocupada de 60 años en adelante en Caldas: 2543.690331052\n",
      "Población económicamente activa de 60 años en adelante en Caldas: 62637.207145629\n",
      "Tasa de desempleo de 60 años en adelante en Caldas: 4.06%\n"
     ]
    }
   ],
   "source": [
    "# Grupo de edad de los 60 años en adelante\n",
    "\n",
    "D_60= df_d_edad[(df_d_edad['DSI'] ==1) & (df_d_edad['P6040'] >= 60) & (df_d_edad['DPTO'] == 17)]['FEX_C18'].sum()\n",
    "print(f'Población desocupada de 60 años en adelante en Caldas: {D_60}')\n",
    "\n",
    "# 1. Cantidad de personas en la PEA en Caldas para este grupo de edad   \n",
    "\n",
    "PEA_60= df_ft_edad[(df_ft_edad['FT'] ==1) & (df_ft_edad['P6040'] >= 60) & (df_ft_edad['DPTO'] == 17)]['FEX_C18'].sum()\n",
    "print(f'Población económicamente activa de 60 años en adelante en Caldas: {PEA_60}')    \n",
    "\n",
    "# 2. Tasa de desempleo para este grupo de edad en Caldas\n",
    "\n",
    "TD_60 = D_60 / PEA_60\n",
    "print(f'Tasa de desempleo de 60 años en adelante en Caldas: {TD_60:.2%}')"
   ]
  },
  {
   "cell_type": "markdown",
   "id": "ada4ee3f",
   "metadata": {},
   "source": [
    "Tasa de desempleo por grupos de edad en Quindío"
   ]
  },
  {
   "cell_type": "code",
   "execution_count": 81,
   "id": "33d47298",
   "metadata": {},
   "outputs": [
    {
     "name": "stdout",
     "output_type": "stream",
     "text": [
      "Población desocupada entre 18 y 24 años en Quindío: 3819.2724449800003\n",
      "Población económicamente activa entre 18 y 24 años en Quindío: 29912.663758397\n",
      "Tasa de desempleo entre 18 y 24 años en Quindío: 12.77%\n"
     ]
    }
   ],
   "source": [
    "# Grupo de edad de los 18 a los 24\n",
    "\n",
    "D_1824= df_d_edad[(df_d_edad['DSI'] ==1) & (df_d_edad['P6040'] >= 18) & (df_d_edad['P6040'] <= 24) & (df_d_edad['DPTO'] == 63)]['FEX_C18'].sum()\n",
    "print(f'Población desocupada entre 18 y 24 años en Quindío: {D_1824}')\n",
    "\n",
    "# 1. Cantidad de personas en la PEA en Quindío para este grupo de edad\n",
    "\n",
    "PEA_1824= df_ft_edad[(df_ft_edad['FT'] ==1) & (df_ft_edad['P6040'] >= 18) & (df_ft_edad['P6040'] <= 24) & (df_ft_edad['DPTO'] == 63)]['FEX_C18'].sum()\n",
    "print(f'Población económicamente activa entre 18 y 24 años en Quindío: {PEA_1824}') \n",
    "\n",
    "# 2. Tasa de desempleo para este grupo de edad en Quindío\n",
    "\n",
    "TD_1824 = D_1824 / PEA_1824\n",
    "print(f'Tasa de desempleo entre 18 y 24 años en Quindío: {TD_1824:.2%}')"
   ]
  },
  {
   "cell_type": "code",
   "execution_count": 82,
   "id": "f87f99e5",
   "metadata": {},
   "outputs": [
    {
     "name": "stdout",
     "output_type": "stream",
     "text": [
      "Población desocupada entre 24 y 30 años en Quindío: 7008.068900358\n",
      "Población económicamente activa entre 24 y 30 años en Quindío: 51117.425383347\n",
      "Tasa de desempleo entre 24 y 30 años en Quindío: 13.71%\n"
     ]
    }
   ],
   "source": [
    "# Grupo de edad de los 24 a los 30 años\n",
    "\n",
    "D_2430= df_d_edad[(df_d_edad['DSI'] ==1) & (df_d_edad['P6040'] >= 24) & (df_d_edad['P6040'] <= 30) & (df_d_edad['DPTO'] == 63)]['FEX_C18'].sum()\n",
    "print(f'Población desocupada entre 24 y 30 años en Quindío: {D_2430}')  \n",
    "\n",
    "# 1. Cantidad de personas en la PEA en Quindío para este grupo de edad\n",
    "\n",
    "PEA_2430= df_ft_edad[(df_ft_edad['FT'] ==1) & (df_ft_edad['P6040'] >= 24) & (df_ft_edad['P6040'] <= 30) & (df_ft_edad['DPTO'] == 63)]['FEX_C18'].sum()\n",
    "print(f'Población económicamente activa entre 24 y 30 años en Quindío: {PEA_2430}')\n",
    "\n",
    "# 2. Tasa de desempleo para este grupo de edad en Quindío\n",
    "\n",
    "TD_2430 = D_2430 / PEA_2430\n",
    "print(f'Tasa de desempleo entre 24 y 30 años en Quindío: {TD_2430:.2%}')"
   ]
  },
  {
   "cell_type": "code",
   "execution_count": 83,
   "id": "7c4e3f80",
   "metadata": {},
   "outputs": [
    {
     "name": "stdout",
     "output_type": "stream",
     "text": [
      "Población desocupada entre 30 y 40 años en Quindío: 7015.512022579001\n",
      "Población económicamente activa entre 30 y 40 años en Quindío: 72731.96687714598\n",
      "Tasa de desempleo entre 30 y 40 años en Quindío: 9.65%\n"
     ]
    }
   ],
   "source": [
    "# Grupo de edad de los 30 a los 40 años     \n",
    "\n",
    "D_3040= df_d_edad[(df_d_edad['DSI'] ==1) & (df_d_edad['P6040'] >= 30) & (df_d_edad['P6040'] <= 40) & (df_d_edad['DPTO'] == 63)]['FEX_C18'].sum()\n",
    "print(f'Población desocupada entre 30 y 40 años en Quindío: {D_3040}')\n",
    "\n",
    "# 1. Cantidad de personas en la PEA en Quindío para este grupo de edad\n",
    "\n",
    "PEA_3040= df_ft_edad[(df_ft_edad['FT'] ==1) & (df_ft_edad['P6040'] >= 30) & (df_ft_edad['P6040'] <= 40) & (df_ft_edad['DPTO'] == 63)]['FEX_C18'].sum()\n",
    "print(f'Población económicamente activa entre 30 y 40 años en Quindío: {PEA_3040}')\n",
    "\n",
    "# 2. Tasa de desempleo para este grupo de edad en Quindío\n",
    "\n",
    "TD_3040 = D_3040 / PEA_3040\n",
    "print(f'Tasa de desempleo entre 30 y 40 años en Quindío: {TD_3040:.2%}')"
   ]
  },
  {
   "cell_type": "code",
   "execution_count": 84,
   "id": "7e82f8c1",
   "metadata": {},
   "outputs": [
    {
     "name": "stdout",
     "output_type": "stream",
     "text": [
      "Población desocupada entre 40 y 50 años en Quindío: 4416.562673204001\n",
      "Población económicamente activa entre 40 y 50 años en Quindío: 70586.28939453498\n",
      "Tasa de desempleo entre 40 y 50 años en Quindío: 6.26%\n"
     ]
    }
   ],
   "source": [
    "# Grupo de edad de los 40 a los 50 años\n",
    "\n",
    "D_4050= df_d_edad[(df_d_edad['DSI'] ==1) & (df_d_edad['P6040'] >= 40) & (df_d_edad['P6040'] <= 50) & (df_d_edad['DPTO'] == 63)]['FEX_C18'].sum()\n",
    "print(f'Población desocupada entre 40 y 50 años en Quindío: {D_4050}')  \n",
    "\n",
    "# 1. Cantidad de personas en la PEA en Quindío para este grupo de edad\n",
    "\n",
    "PEA_4050= df_ft_edad[(df_ft_edad['FT'] ==1) & (df_ft_edad['P6040'] >= 40) & (df_ft_edad['P6040'] <= 50) & (df_ft_edad['DPTO'] == 63)]['FEX_C18'].sum()  \n",
    "print(f'Población económicamente activa entre 40 y 50 años en Quindío: {PEA_4050}')\n",
    "\n",
    "# 2. Tasa de desempleo para este grupo de edad en Quindío\n",
    "\n",
    "TD_4050 = D_4050 / PEA_4050\n",
    "print(f'Tasa de desempleo entre 40 y 50 años en Quindío: {TD_4050:.2%}')"
   ]
  },
  {
   "cell_type": "code",
   "execution_count": 85,
   "id": "31b75f55",
   "metadata": {},
   "outputs": [
    {
     "name": "stdout",
     "output_type": "stream",
     "text": [
      "Población desocupada de 60 años en adelante en Quindío: 4297.130465619\n",
      "Población económicamente activa de 60 años en adelante en Quindío: 41690.707895215004\n",
      "Tasa de desempleo de 60 años en adelante en Quindío: 10.31%\n"
     ]
    }
   ],
   "source": [
    "# Grupo de edad de los 60 en adelante\n",
    "\n",
    "D_60= df_d_edad[(df_d_edad['DSI'] ==1) & (df_d_edad['P6040'] >= 60) & (df_d_edad['DPTO'] == 63)]['FEX_C18'].sum()\n",
    "print(f'Población desocupada de 60 años en adelante en Quindío: {D_60}')    \n",
    "\n",
    "# 1. Cantidad de personas en la PEA en Quindío para este grupo de edad\n",
    "\n",
    "PEA_60= df_ft_edad[(df_ft_edad['FT'] ==1) & (df_ft_edad['P6040'] >= 60) & (df_ft_edad['DPTO'] == 63)]['FEX_C18'].sum()\n",
    "print(f'Población económicamente activa de 60 años en adelante en Quindío: {PEA_60}')\n",
    "\n",
    "# 2. Tasa de desempleo para este grupo de edad en Quindío\n",
    "\n",
    "TD_60 = D_60 / PEA_60\n",
    "print(f'Tasa de desempleo de 60 años en adelante en Quindío: {TD_60:.2%}')"
   ]
  },
  {
   "cell_type": "markdown",
   "id": "9fb6d3ab",
   "metadata": {},
   "source": [
    "Tasas de desempleo por grupos de edad en Risaralda"
   ]
  },
  {
   "cell_type": "code",
   "execution_count": 86,
   "id": "58c1f3b5",
   "metadata": {},
   "outputs": [
    {
     "name": "stdout",
     "output_type": "stream",
     "text": [
      "Población desocupada entre 18 y 24 años en Risaralda: 9385.755003442\n",
      "Población económicamente activa entre 18 y 24 años en Risaralda: 63454.922070486005\n",
      "Tasa de desempleo entre 18 y 24 años en Risaralda: 14.79%\n"
     ]
    }
   ],
   "source": [
    "# Grupo de edad de los 18 a los 24 años  \n",
    "\n",
    "D_1824= df_d_edad[(df_d_edad['DSI'] ==1) & (df_d_edad['P6040'] >= 18) & (df_d_edad['P6040'] <= 24) & (df_d_edad['DPTO'] == 66)]['FEX_C18'].sum()\n",
    "print(f'Población desocupada entre 18 y 24 años en Risaralda: {D_1824}')\n",
    "\n",
    "# 1. Cantidad de personas en la PEA en Risaralda para este grupo de edad\n",
    "\n",
    "PEA_1824= df_ft_edad[(df_ft_edad['FT'] ==1) & (df_ft_edad['P6040'] >= 18) & (df_ft_edad['P6040'] <= 24) & (df_ft_edad['DPTO'] == 66)]['FEX_C18'].sum()\n",
    "print(f'Población económicamente activa entre 18 y 24 años en Risaralda: {PEA_1824}')\n",
    "\n",
    "# 2. Tasa de desempleo para este grupo de edad en Risaralda\n",
    "\n",
    "TD_1824 = D_1824 / PEA_1824 \n",
    "print(f'Tasa de desempleo entre 18 y 24 años en Risaralda: {TD_1824:.2%}')"
   ]
  },
  {
   "cell_type": "code",
   "execution_count": 87,
   "id": "160227ec",
   "metadata": {},
   "outputs": [
    {
     "name": "stdout",
     "output_type": "stream",
     "text": [
      "Población desocupada entre 24 y 30 años en Risaralda: 10504.69809363\n",
      "Población económicamente activa entre 24 y 30 años en Risaralda: 90684.88337600001\n",
      "Tasa de desempleo entre 24 y 30 años en Risaralda: 11.58%\n"
     ]
    }
   ],
   "source": [
    "# Grupo de edad de los 24 a los 30 años \n",
    "\n",
    "D_2430= df_d_edad[(df_d_edad['DSI'] ==1) & (df_d_edad['P6040'] >= 24) & (df_d_edad['P6040'] <= 30) & (df_d_edad['DPTO'] == 66)]['FEX_C18'].sum()\n",
    "print(f'Población desocupada entre 24 y 30 años en Risaralda: {D_2430}')    \n",
    "\n",
    "# 1. Cantidad de personas en la PEA en Risaralda para este grupo de edad\n",
    "\n",
    "PEA_2430= df_ft_edad[(df_ft_edad['FT'] ==1) & (df_ft_edad['P6040'] >= 24) & (df_ft_edad['P6040'] <= 30) & (df_ft_edad['DPTO'] == 66)]['FEX_C18'].sum()\n",
    "print(f'Población económicamente activa entre 24 y 30 años en Risaralda: {PEA_2430}')\n",
    "\n",
    "# 2. Tasa de desempleo para este grupo de edad en Risaralda\n",
    "\n",
    "TD_2430 = D_2430 / PEA_2430\n",
    "print(f'Tasa de desempleo entre 24 y 30 años en Risaralda: {TD_2430:.2%}')"
   ]
  },
  {
   "cell_type": "code",
   "execution_count": 88,
   "id": "b0412b72",
   "metadata": {},
   "outputs": [
    {
     "name": "stdout",
     "output_type": "stream",
     "text": [
      "Población desocupada entre 30 y 40 años en Risaralda: 9922.605545110002\n",
      "Población económicamente activa entre 30 y 40 años en Risaralda: 153899.63411428098\n",
      "Tasa de desempleo entre 30 y 40 años en Risaralda: 6.45%\n"
     ]
    }
   ],
   "source": [
    "# Grupo de edad de los 30 a los 40 años  \n",
    "\n",
    "D_3040= df_d_edad[(df_d_edad['DSI'] ==1) & (df_d_edad['P6040'] >= 30) & (df_d_edad['P6040'] <= 40) & (df_d_edad['DPTO'] == 66)]['FEX_C18'].sum()\n",
    "print(f'Población desocupada entre 30 y 40 años en Risaralda: {D_3040}')\n",
    "\n",
    "# 1. Cantidad de personas en la PEA en Risaralda para este grupo de edad\n",
    "\n",
    "PEA_3040= df_ft_edad[(df_ft_edad['FT'] ==1) & (df_ft_edad['P6040'] >= 30) & (df_ft_edad['P6040'] <= 40) & (df_ft_edad['DPTO'] == 66)]['FEX_C18'].sum()\n",
    "print(f'Población económicamente activa entre 30 y 40 años en Risaralda: {PEA_3040}')\n",
    "\n",
    "# 2. Tasa de desempleo para este grupo de edad en Risaralda\n",
    "\n",
    "TD_3040 = D_3040 / PEA_3040\n",
    "print(f'Tasa de desempleo entre 30 y 40 años en Risaralda: {TD_3040:.2%}')"
   ]
  },
  {
   "cell_type": "code",
   "execution_count": 89,
   "id": "c7cce8ce",
   "metadata": {},
   "outputs": [
    {
     "name": "stdout",
     "output_type": "stream",
     "text": [
      "Población desocupada entre 40 y 50 años en Risaralda: 4416.562673204001\n",
      "Población económicamente activa entre 40 y 50 años en Risaralda: 70586.28939453498\n",
      "Tasa de desempleo entre 40 y 50 años en Risaralda: 6.26%\n"
     ]
    }
   ],
   "source": [
    "# Grupo de edad de los 40 a los 50 años\n",
    " \n",
    "D_4050= df_d_edad[(df_d_edad['DSI'] ==1) & (df_d_edad['P6040'] >= 40) & (df_d_edad['P6040'] <= 50) & (df_d_edad['DPTO'] == 63)]['FEX_C18'].sum()  \n",
    "print(f'Población desocupada entre 40 y 50 años en Risaralda: {D_4050}')\n",
    "\n",
    "# 1. Cantidad de personas en la PEA en Risaralda para este grupo de edad\n",
    "\n",
    "PEA_4050= df_ft_edad[(df_ft_edad['FT'] ==1) & (df_ft_edad['P6040'] >= 40) & (df_ft_edad['P6040'] <= 50) & (df_ft_edad['DPTO'] == 63)]['FEX_C18'].sum()\n",
    "print(f'Población económicamente activa entre 40 y 50 años en Risaralda: {PEA_4050}')\n",
    "\n",
    "# 2. Tasa de desempleo para este grupo de edad en Risaralda\n",
    "\n",
    "TD_4050 = D_4050 / PEA_4050\n",
    "print(f'Tasa de desempleo entre 40 y 50 años en Risaralda: {TD_4050:.2%}')"
   ]
  },
  {
   "cell_type": "code",
   "execution_count": 90,
   "id": "57972927",
   "metadata": {},
   "outputs": [
    {
     "name": "stdout",
     "output_type": "stream",
     "text": [
      "Población desocupada de 60 años en adelante en Risaralda: 2221.4456352800003\n",
      "Población económicamente activa de 60 años en adelante en Risaralda: 61031.061322139\n",
      "Tasa de desempleo de 60 años en adelante en Risaralda: 3.64%\n"
     ]
    }
   ],
   "source": [
    "# Grupo de edad de los 60 años en adelante\n",
    "\n",
    "D_60= df_d_edad[(df_d_edad['DSI'] ==1) & (df_d_edad['P6040'] >= 60) & (df_d_edad['DPTO'] == 66)]['FEX_C18'].sum()\n",
    "print(f'Población desocupada de 60 años en adelante en Risaralda: {D_60}')\n",
    "\n",
    "# 1. Cantidad de personas en la PEA en Risaralda para este grupo de edad\n",
    "\n",
    "PEA_60= df_ft_edad[(df_ft_edad['FT'] ==1) & (df_ft_edad['P6040'] >= 60) & (df_ft_edad['DPTO'] == 66)]['FEX_C18'].sum()\n",
    "print(f'Población económicamente activa de 60 años en adelante en Risaralda: {PEA_60}')\n",
    "\n",
    "# 2. Tasa de desempleo para este grupo de edad en Risaralda\n",
    "\n",
    "TD_60 = D_60 / PEA_60\n",
    "print(f'Tasa de desempleo de 60 años en adelante en Risaralda: {TD_60:.2%}')"
   ]
  },
  {
   "cell_type": "markdown",
   "id": "db54bf72",
   "metadata": {},
   "source": [
    "PREGUNTA 4"
   ]
  },
  {
   "cell_type": "markdown",
   "id": "081864ca",
   "metadata": {},
   "source": [
    "¿Cuáles son los 3 departamentos con menor tasa de desempleo de mujeres entre los 18 y los 25 años ? "
   ]
  },
  {
   "cell_type": "code",
   "execution_count": 98,
   "id": "236b1325",
   "metadata": {},
   "outputs": [
    {
     "name": "stdout",
     "output_type": "stream",
     "text": [
      "Tasa de desempleo mujeres entre 18 y 25 años en Caldas: 14.50%\n"
     ]
    }
   ],
   "source": [
    "# Tasa de desempleo mujeres entre 18 y 25 años en Caldas\n",
    "\n",
    "df_d_mujeres_edad= pd.merge(df_desocupados, df_cgsse[['DIRECTORIO','SECUENCIA_P','ORDEN','P3271','P6040','DPTO']], \n",
    "                      on=['DIRECTORIO','SECUENCIA_P','ORDEN'], how='left')\n",
    "df_ft_mujeres_edad= pd.merge(df_ft, df_cgsse[['DIRECTORIO','SECUENCIA_P','ORDEN','P3271','P6040','DPTO']], \n",
    "                      on=['DIRECTORIO','SECUENCIA_P','ORDEN'], how='left')\n",
    "\n",
    "DF_1825 = df_d_mujeres_edad[(df_d_mujeres_edad['DSI'] == 1) & (df_d_mujeres_edad['P3271'] == 2) & (df_d_mujeres_edad['P6040'] >= 18) & (df_d_mujeres_edad['P6040'] <= 25) & (df_d_mujeres_edad['DPTO_x'] == 17)]['FEX_C18'].sum()\n",
    "\n",
    "PEA_1825 = df_ft_mujeres_edad[(df_ft_mujeres_edad['FT'] == 1) & (df_ft_mujeres_edad['P3271'] == 2) & (df_ft_mujeres_edad['P6040'] >= 18) & (df_ft_mujeres_edad['P6040'] <= 25) & (df_ft_mujeres_edad['DPTO_y'] == 17)]['FEX_C18'].sum()\n",
    "\n",
    "TD_1825 = DF_1825 / PEA_1825\n",
    "print(f'Tasa de desempleo mujeres entre 18 y 25 años en Caldas: {TD_1825:.2%}')\n"
   ]
  },
  {
   "cell_type": "code",
   "execution_count": 99,
   "id": "6abc2044",
   "metadata": {},
   "outputs": [
    {
     "name": "stdout",
     "output_type": "stream",
     "text": [
      "Tasa de desempleo mujeres entre 18 y 25 años en Quindío: 7.47%\n"
     ]
    }
   ],
   "source": [
    "# Tasa de desempleo mujeres entre 18 y 25 años en Quindío\n",
    "\n",
    "DF_1825 = df_d_mujeres_edad[(df_d_mujeres_edad['DSI'] == 1) & (df_d_mujeres_edad['P3271'] == 2) & (df_d_mujeres_edad['P6040'] >= 18) & (df_d_mujeres_edad['P6040'] <= 25) & (df_d_mujeres_edad['DPTO_x'] == 63)]['FEX_C18'].sum()\n",
    "\n",
    "PEA_1825 = df_ft_mujeres_edad[(df_ft_mujeres_edad['FT'] == 1) & (df_ft_mujeres_edad['P3271'] == 2) & (df_ft_mujeres_edad['P6040'] >= 18) & (df_ft_mujeres_edad['P6040'] <= 25) & (df_ft_mujeres_edad['DPTO_y'] == 63)]['FEX_C18'].sum()\n",
    "\n",
    "TD_1825 = DF_1825 / PEA_1825\n",
    "print(f'Tasa de desempleo mujeres entre 18 y 25 años en Quindío: {TD_1825:.2%}')"
   ]
  },
  {
   "cell_type": "code",
   "execution_count": 100,
   "id": "9c6c4e9b",
   "metadata": {},
   "outputs": [
    {
     "name": "stdout",
     "output_type": "stream",
     "text": [
      "Tasa de desempleo mujeres entre 18 y 25 años en Risaralda: 22.99%\n"
     ]
    }
   ],
   "source": [
    "# Tasa de desempleo mujeres entre 18 y 25 años en Risaralda\n",
    "\n",
    "DF_1825 = df_d_mujeres_edad[(df_d_mujeres_edad['DSI'] == 1) & (df_d_mujeres_edad['P3271'] == 2) & (df_d_mujeres_edad['P6040'] >= 18) & (df_d_mujeres_edad['P6040'] <= 25) & (df_d_mujeres_edad['DPTO_x'] == 66)]['FEX_C18'].sum()\n",
    "\n",
    "PEA_1825 = df_ft_mujeres_edad[(df_ft_mujeres_edad['FT'] == 1) & (df_ft_mujeres_edad['P3271'] == 2) & (df_ft_mujeres_edad['P6040'] >= 18) & (df_ft_mujeres_edad['P6040'] <= 25) & (df_ft_mujeres_edad['DPTO_y'] == 66)]['FEX_C18'].sum()\n",
    "\n",
    "TD_1825 = DF_1825 / PEA_1825\n",
    "print(f'Tasa de desempleo mujeres entre 18 y 25 años en Risaralda: {TD_1825:.2%}')"
   ]
  }
 ],
 "metadata": {
  "kernelspec": {
   "display_name": "Python 3",
   "language": "python",
   "name": "python3"
  },
  "language_info": {
   "codemirror_mode": {
    "name": "ipython",
    "version": 3
   },
   "file_extension": ".py",
   "mimetype": "text/x-python",
   "name": "python",
   "nbconvert_exporter": "python",
   "pygments_lexer": "ipython3",
   "version": "3.12.1"
  }
 },
 "nbformat": 4,
 "nbformat_minor": 5
}

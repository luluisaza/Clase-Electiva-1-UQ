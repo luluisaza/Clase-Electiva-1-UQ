{
 "cells": [
  {
   "cell_type": "code",
   "execution_count": 77,
   "id": "18f92305",
   "metadata": {},
   "outputs": [],
   "source": [
    "import pandas as pd\n",
    "import numpy as np"
   ]
  },
  {
   "cell_type": "code",
   "execution_count": 78,
   "id": "4295115e",
   "metadata": {},
   "outputs": [],
   "source": [
    "# Links a los conjuntos de datos\n",
    "url_cgsse = 'https://github.com/niconomist98/DataAnalyticsUQ/raw/refs/heads/main/Datos/GEIH2025/cgsse.CSV'\n",
    "url_ocupados = 'https://github.com/niconomist98/DataAnalyticsUQ/raw/refs/heads/main/Datos/GEIH2025/Ocupados.CSV'\n",
    "url_ft = 'https://github.com/niconomist98/DataAnalyticsUQ/raw/refs/heads/main/Datos/GEIH2025/Fuerza%20de%20trabajo.CSV'\n",
    "url_desocupados = 'https://github.com/niconomist98/DataAnalyticsUQ/raw/refs/heads/main/Datos/GEIH2025/No%20ocupados.CSV'\n",
    "\n",
    "# CGSSE\n",
    "df_cgsse = pd.read_csv(url_cgsse, encoding='latin-1', sep=';', low_memory=False)\n",
    "\n",
    "#Ocupados\n",
    "df_ocupados=pd.read_csv(url_ocupados,encoding='latin-1',sep=';',\n",
    "                        low_memory=False)\n",
    "\n",
    "#Fuerza de trabajo\n",
    "df_ft=pd.read_csv(url_ft,\n",
    "                  encoding='latin-1',sep=';',low_memory=False)\n",
    "#No ocupados\n",
    "df_desocupados=pd.read_csv(url_desocupados,encoding='latin-1',\n",
    "                           sep=';',low_memory=False)"
   ]
  },
  {
   "cell_type": "code",
   "execution_count": 79,
   "id": "1e1df6aa",
   "metadata": {},
   "outputs": [],
   "source": [
    "# Pregunta 1 "
   ]
  },
  {
   "cell_type": "code",
   "execution_count": 80,
   "id": "170b29dc",
   "metadata": {},
   "outputs": [
    {
     "name": "stdout",
     "output_type": "stream",
     "text": [
      "Población total: 52045001\n"
     ]
    }
   ],
   "source": [
    "# Calcular población total\n",
    "PT = int(df_cgsse['FEX_C18'].sum())\n",
    "print(f'Población total: {PT}')"
   ]
  },
  {
   "cell_type": "code",
   "execution_count": 81,
   "id": "5733cc04",
   "metadata": {},
   "outputs": [
    {
     "name": "stdout",
     "output_type": "stream",
     "text": [
      "Población en edad de trabajar : 40653416\n"
     ]
    }
   ],
   "source": [
    "# Calcular población en edad de trabajar \n",
    "PET = int(df_cgsse[df_cgsse['P6040'] >= 15]['FEX_C18'].sum())\n",
    "print(f'Población en edad de trabajar : {PET}')"
   ]
  },
  {
   "cell_type": "code",
   "execution_count": 82,
   "id": "4f9d5080",
   "metadata": {},
   "outputs": [
    {
     "name": "stdout",
     "output_type": "stream",
     "text": [
      "Población que no está en edad de trabajar: 11391585\n"
     ]
    }
   ],
   "source": [
    " # Calcular población que no está en edad de trabajar\n",
    "PNET = int(df_cgsse[df_cgsse['P6040'] < 15]['FEX_C18'].sum())\n",
    "print(f'Población que no está en edad de trabajar: {PNET}')"
   ]
  },
  {
   "cell_type": "code",
   "execution_count": 83,
   "id": "59caafcb",
   "metadata": {},
   "outputs": [
    {
     "name": "stdout",
     "output_type": "stream",
     "text": [
      "Población económicamente activa: 40653416\n"
     ]
    }
   ],
   "source": [
    "# Población económicamente activa\n",
    "PET = int(df_ft['FEX_C18'].sum())\n",
    "print(f'Población económicamente activa: {PET}')"
   ]
  },
  {
   "cell_type": "code",
   "execution_count": 90,
   "id": "d551439e",
   "metadata": {},
   "outputs": [
    {
     "name": "stdout",
     "output_type": "stream",
     "text": [
      "Población económicamente inactiva: 11391585\n"
     ]
    }
   ],
   "source": [
    "# Población económicamnete inactiva\n",
    "PEI = PT - PET\n",
    "print(f'Población económicamente inactiva: {PEI}')"
   ]
  },
  {
   "cell_type": "code",
   "execution_count": 84,
   "id": "9aa6752e",
   "metadata": {},
   "outputs": [
    {
     "name": "stdout",
     "output_type": "stream",
     "text": [
      "Población ocupada: 23752952\n",
      "Tasa de ocupación: 58.43%\n"
     ]
    }
   ],
   "source": [
    "# Tasa de ocupación\n",
    "O = int(df_ocupados['FEX_C18'].sum())\n",
    "print(f'Población ocupada: {O}')\n",
    "\n",
    "TO = (O / PET)\n",
    "print(f'Tasa de ocupación: {TO:.2%}')"
   ]
  },
  {
   "cell_type": "code",
   "execution_count": 91,
   "id": "bc46a042",
   "metadata": {},
   "outputs": [
    {
     "name": "stdout",
     "output_type": "stream",
     "text": [
      "Población económicamente activa: 25974846\n",
      "Población económicamente inactiva: 14678569\n",
      "Población desocupada: 16900463\n",
      "Tasa de desempleo: 65.06%\n"
     ]
    }
   ],
   "source": [
    "# Tasa de desempleo\n",
    "PEA = int(df_ft[df_ft['FT']==1]['FEX_C18'].sum())\n",
    "print(f'Población económicamente activa: {PEA}')\n",
    "\n",
    "PEI = int(df_ft[df_ft['FFT']==1]['FEX_C18'].sum())\n",
    "print(f'Población económicamente inactiva: {PEI}')\n",
    "\n",
    "D = int(df_desocupados['FEX_C18'].sum())\n",
    "print(f'Población desocupada: {D}')\n",
    "\n",
    "TD = (D / PEA)\n",
    "print(f'Tasa de desempleo: {TD:.2%}')\n"
   ]
  }
 ],
 "metadata": {
  "kernelspec": {
   "display_name": "Python 3",
   "language": "python",
   "name": "python3"
  },
  "language_info": {
   "codemirror_mode": {
    "name": "ipython",
    "version": 3
   },
   "file_extension": ".py",
   "mimetype": "text/x-python",
   "name": "python",
   "nbconvert_exporter": "python",
   "pygments_lexer": "ipython3",
   "version": "3.12.1"
  }
 },
 "nbformat": 4,
 "nbformat_minor": 5
}

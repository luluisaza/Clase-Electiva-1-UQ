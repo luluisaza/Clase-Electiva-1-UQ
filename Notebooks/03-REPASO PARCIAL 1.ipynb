{
 "cells": [
  {
   "cell_type": "code",
   "execution_count": 22,
   "id": "a20d9577",
   "metadata": {},
   "outputs": [],
   "source": [
    "import pandas as pd\n",
    "import numpy as np"
   ]
  },
  {
   "cell_type": "code",
   "execution_count": 23,
   "id": "9a989741",
   "metadata": {},
   "outputs": [
    {
     "data": {
      "text/html": [
       "<div>\n",
       "<style scoped>\n",
       "    .dataframe tbody tr th:only-of-type {\n",
       "        vertical-align: middle;\n",
       "    }\n",
       "\n",
       "    .dataframe tbody tr th {\n",
       "        vertical-align: top;\n",
       "    }\n",
       "\n",
       "    .dataframe thead th {\n",
       "        text-align: right;\n",
       "    }\n",
       "</style>\n",
       "<table border=\"1\" class=\"dataframe\">\n",
       "  <thead>\n",
       "    <tr style=\"text-align: right;\">\n",
       "      <th></th>\n",
       "      <th>DIRECTORIO</th>\n",
       "      <th>SECUENCIA_P</th>\n",
       "      <th>SECUENCIA_ENCUESTA</th>\n",
       "      <th>COD_DEPTO</th>\n",
       "      <th>AREA</th>\n",
       "      <th>CLASE_TE</th>\n",
       "      <th>P35</th>\n",
       "      <th>P241</th>\n",
       "      <th>MES_REF</th>\n",
       "      <th>P3031</th>\n",
       "      <th>P3032_1</th>\n",
       "      <th>P3032_2</th>\n",
       "      <th>P3032_3</th>\n",
       "      <th>P3033</th>\n",
       "      <th>P3034</th>\n",
       "      <th>P3035</th>\n",
       "      <th>P3000</th>\n",
       "      <th>GRUPOS4</th>\n",
       "      <th>GRUPOS12</th>\n",
       "      <th>F_EXP</th>\n",
       "    </tr>\n",
       "  </thead>\n",
       "  <tbody>\n",
       "    <tr>\n",
       "      <th>0</th>\n",
       "      <td>7627444</td>\n",
       "      <td>1</td>\n",
       "      <td>1</td>\n",
       "      <td>44</td>\n",
       "      <td>NaN</td>\n",
       "      <td>2</td>\n",
       "      <td>2</td>\n",
       "      <td>33</td>\n",
       "      <td>ENERO</td>\n",
       "      <td>2</td>\n",
       "      <td>NaN</td>\n",
       "      <td>NaN</td>\n",
       "      <td>NaN</td>\n",
       "      <td>2</td>\n",
       "      <td>240</td>\n",
       "      <td>2</td>\n",
       "      <td>2</td>\n",
       "      <td>2</td>\n",
       "      <td>3</td>\n",
       "      <td>60.050515</td>\n",
       "    </tr>\n",
       "    <tr>\n",
       "      <th>1</th>\n",
       "      <td>7627446</td>\n",
       "      <td>1</td>\n",
       "      <td>1</td>\n",
       "      <td>44</td>\n",
       "      <td>NaN</td>\n",
       "      <td>2</td>\n",
       "      <td>1</td>\n",
       "      <td>31</td>\n",
       "      <td>ENERO</td>\n",
       "      <td>2</td>\n",
       "      <td>NaN</td>\n",
       "      <td>NaN</td>\n",
       "      <td>NaN</td>\n",
       "      <td>2</td>\n",
       "      <td>166</td>\n",
       "      <td>2</td>\n",
       "      <td>2</td>\n",
       "      <td>1</td>\n",
       "      <td>1</td>\n",
       "      <td>86.341075</td>\n",
       "    </tr>\n",
       "    <tr>\n",
       "      <th>2</th>\n",
       "      <td>7627449</td>\n",
       "      <td>1</td>\n",
       "      <td>1</td>\n",
       "      <td>68</td>\n",
       "      <td>NaN</td>\n",
       "      <td>1</td>\n",
       "      <td>2</td>\n",
       "      <td>42</td>\n",
       "      <td>ENERO</td>\n",
       "      <td>2</td>\n",
       "      <td>NaN</td>\n",
       "      <td>NaN</td>\n",
       "      <td>NaN</td>\n",
       "      <td>2</td>\n",
       "      <td>60</td>\n",
       "      <td>2</td>\n",
       "      <td>2</td>\n",
       "      <td>3</td>\n",
       "      <td>5</td>\n",
       "      <td>139.884518</td>\n",
       "    </tr>\n",
       "    <tr>\n",
       "      <th>3</th>\n",
       "      <td>7627453</td>\n",
       "      <td>1</td>\n",
       "      <td>2</td>\n",
       "      <td>68</td>\n",
       "      <td>NaN</td>\n",
       "      <td>1</td>\n",
       "      <td>2</td>\n",
       "      <td>41</td>\n",
       "      <td>ENERO</td>\n",
       "      <td>2</td>\n",
       "      <td>NaN</td>\n",
       "      <td>NaN</td>\n",
       "      <td>NaN</td>\n",
       "      <td>2</td>\n",
       "      <td>60</td>\n",
       "      <td>2</td>\n",
       "      <td>2</td>\n",
       "      <td>4</td>\n",
       "      <td>7</td>\n",
       "      <td>168.635440</td>\n",
       "    </tr>\n",
       "    <tr>\n",
       "      <th>4</th>\n",
       "      <td>7627456</td>\n",
       "      <td>1</td>\n",
       "      <td>3</td>\n",
       "      <td>68</td>\n",
       "      <td>NaN</td>\n",
       "      <td>1</td>\n",
       "      <td>1</td>\n",
       "      <td>18</td>\n",
       "      <td>ENERO</td>\n",
       "      <td>2</td>\n",
       "      <td>NaN</td>\n",
       "      <td>NaN</td>\n",
       "      <td>NaN</td>\n",
       "      <td>2</td>\n",
       "      <td>9</td>\n",
       "      <td>2</td>\n",
       "      <td>2</td>\n",
       "      <td>4</td>\n",
       "      <td>6</td>\n",
       "      <td>64.659273</td>\n",
       "    </tr>\n",
       "  </tbody>\n",
       "</table>\n",
       "</div>"
      ],
      "text/plain": [
       "   DIRECTORIO  SECUENCIA_P  SECUENCIA_ENCUESTA  COD_DEPTO  AREA  CLASE_TE  \\\n",
       "0     7627444            1                   1         44   NaN         2   \n",
       "1     7627446            1                   1         44   NaN         2   \n",
       "2     7627449            1                   1         68   NaN         1   \n",
       "3     7627453            1                   2         68   NaN         1   \n",
       "4     7627456            1                   3         68   NaN         1   \n",
       "\n",
       "   P35  P241 MES_REF  P3031  P3032_1  P3032_2  P3032_3  P3033  P3034  P3035  \\\n",
       "0    2    33   ENERO      2      NaN      NaN      NaN      2    240      2   \n",
       "1    1    31   ENERO      2      NaN      NaN      NaN      2    166      2   \n",
       "2    2    42   ENERO      2      NaN      NaN      NaN      2     60      2   \n",
       "3    2    41   ENERO      2      NaN      NaN      NaN      2     60      2   \n",
       "4    1    18   ENERO      2      NaN      NaN      NaN      2      9      2   \n",
       "\n",
       "   P3000  GRUPOS4  GRUPOS12       F_EXP  \n",
       "0      2        2         3   60.050515  \n",
       "1      2        1         1   86.341075  \n",
       "2      2        3         5  139.884518  \n",
       "3      2        4         7  168.635440  \n",
       "4      2        4         6   64.659273  "
      ]
     },
     "execution_count": 23,
     "metadata": {},
     "output_type": "execute_result"
    }
   ],
   "source": [
    "repaso_parcial = 'https://github.com/niconomist98/DataAnalyticsUQ/raw/refs/heads/main/Datos/EMICRON/emicron_identificacion.csv'\n",
    "emicron=pd.read_csv(repaso_parcial)\n",
    "emicron.head()"
   ]
  },
  {
   "cell_type": "markdown",
   "id": "10acac7f",
   "metadata": {},
   "source": [
    "1. Calcule la cantidad de micronegocios que hay en el dpto del Quindío encabezada por hombres y mujeres entre los 18 y los 28 años "
   ]
  },
  {
   "cell_type": "code",
   "execution_count": 24,
   "id": "b6a2db71",
   "metadata": {},
   "outputs": [
    {
     "name": "stdout",
     "output_type": "stream",
     "text": [
      "Cantidad de micronegocios en el Quindío encabezados por hombres entre los 18 y 28 años: 1531.3166836231612\n",
      "Cantidad de micronegocios en el Quindío encabezados por mujeres entre los 18 y 28 años: 2281.821516484595\n"
     ]
    }
   ],
   "source": [
    "QH1828 = emicron[(emicron['COD_DEPTO'] == 63) & (emicron['P35'] == 1) & (emicron['P241'] >=18) & (emicron['P241'] <=28)]['F_EXP'].sum()\n",
    "print(f'Cantidad de micronegocios en el Quindío encabezados por hombres entre los 18 y 28 años: {QH1828}')\n",
    "\n",
    "QM1828 = emicron[(emicron['COD_DEPTO'] == 63) & (emicron['P35'] == 2) & (emicron['P241'] >=18) & (emicron['P241'] <=28)]['F_EXP'].sum()\n",
    "print(f'Cantidad de micronegocios en el Quindío encabezados por mujeres entre los 18 y 28 años: {QM1828}')\n"
   ]
  },
  {
   "cell_type": "markdown",
   "id": "78b150a0",
   "metadata": {},
   "source": [
    "2. ¿Cuál es la ciudad en la que existen más micronegocios encabezados por hombres entre los 20 y 30 años?"
   ]
  },
  {
   "cell_type": "code",
   "execution_count": 25,
   "id": "497c85ef",
   "metadata": {},
   "outputs": [
    {
     "name": "stdout",
     "output_type": "stream",
     "text": [
      "La ciudad con más micronegocios encabezados por hombres entre los 20 y 30 años es: 5.0 con 46673.06740102969 micronegocios.\n"
     ]
    }
   ],
   "source": [
    "emicron['AREA'].value_counts()\n",
    "CIUDAD_MH = emicron[(emicron['P35'] == 1) & (emicron['P241'] >=20) & (emicron['P241'] <=30)].groupby('AREA')['F_EXP'].sum().reset_index()\n",
    "CIUDAD_MH = CIUDAD_MH.sort_values(by='F_EXP', ascending=False).head(1)\n",
    "print(f'La ciudad con más micronegocios encabezados por hombres entre los 20 y 30 años es: {CIUDAD_MH.iloc[0,0]} con {CIUDAD_MH.iloc[0,1]} micronegocios.')"
   ]
  },
  {
   "cell_type": "markdown",
   "id": "821f6e39",
   "metadata": {},
   "source": [
    "3. En el departamento del Tolima, ¿Cuántos micronegocios existen encabezados por mujeres que no tienen una persona que les ayude?"
   ]
  },
  {
   "cell_type": "code",
   "execution_count": 26,
   "id": "63ef4f68",
   "metadata": {},
   "outputs": [
    {
     "name": "stdout",
     "output_type": "stream",
     "text": [
      "Cantidad de micronegocios en el Tolima encabezados por mujeres que no tienen quién les ayude: 28203.211514115817\n"
     ]
    }
   ],
   "source": [
    "DEPTO_TM = emicron[(emicron['P35'] == 2) & (emicron['COD_DEPTO'] == 73) & (emicron['P3031'] == 2)]['F_EXP'].sum()\n",
    "print(f'Cantidad de micronegocios en el Tolima encabezados por mujeres que no tienen quién les ayude: {DEPTO_TM}')"
   ]
  },
  {
   "cell_type": "markdown",
   "id": "259b3723",
   "metadata": {},
   "source": [
    "4. ¿Cuántos micronegocios hay en la ciudad de Bogotá encabezados por mujeres que estén en el sector de la industria manufacturera?"
   ]
  },
  {
   "cell_type": "code",
   "execution_count": 27,
   "id": "ba3c7261",
   "metadata": {},
   "outputs": [
    {
     "name": "stdout",
     "output_type": "stream",
     "text": [
      "Cantidad de micronegocios en Bogotá D.C. del sector manufacturero encabezados por mujeres: 24601.108849640357\n"
     ]
    }
   ],
   "source": [
    "IND_MANU_MM = emicron[(emicron['P35'] == 2) & (emicron['GRUPOS12'] == 3) & (emicron['COD_DEPTO'] == 11)]['F_EXP'].sum()\n",
    "print(f'Cantidad de micronegocios en Bogotá D.C. del sector manufacturero encabezados por mujeres: {IND_MANU_MM}')"
   ]
  },
  {
   "cell_type": "markdown",
   "id": "24fe14ca",
   "metadata": {},
   "source": [
    "5. Formular pregunta creativa con mínimo 2 variables "
   ]
  },
  {
   "cell_type": "code",
   "execution_count": 28,
   "id": "6c504f08",
   "metadata": {},
   "outputs": [
    {
     "data": {
      "text/plain": [
       "Index(['DIRECTORIO', 'SECUENCIA_P', 'SECUENCIA_ENCUESTA', 'COD_DEPTO', 'AREA',\n",
       "       'CLASE_TE', 'P35', 'P241', 'MES_REF', 'P3031', 'P3032_1', 'P3032_2',\n",
       "       'P3032_3', 'P3033', 'P3034', 'P3035', 'P3000', 'GRUPOS4', 'GRUPOS12',\n",
       "       'F_EXP'],\n",
       "      dtype='object')"
      ]
     },
     "execution_count": 28,
     "metadata": {},
     "output_type": "execute_result"
    }
   ],
   "source": [
    "emicron.columns"
   ]
  },
  {
   "cell_type": "code",
   "execution_count": 29,
   "id": "a5659d5f",
   "metadata": {},
   "outputs": [
    {
     "ename": "KeyError",
     "evalue": "\"['P3051'] not in index\"",
     "output_type": "error",
     "traceback": [
      "\u001b[31m---------------------------------------------------------------------------\u001b[39m",
      "\u001b[31mKeyError\u001b[39m                                  Traceback (most recent call last)",
      "\u001b[36mCell\u001b[39m\u001b[36m \u001b[39m\u001b[32mIn[29]\u001b[39m\u001b[32m, line 3\u001b[39m\n\u001b[32m      1\u001b[39m \u001b[38;5;66;03m# ¿Cuántos de los micronegocios en la ciudad de Popayán encabezados por hombres fueron heredados o de tradición familiar?\u001b[39;00m\n\u001b[32m----> \u001b[39m\u001b[32m3\u001b[39m emicron_emp = pd.merge(\u001b[43memicron\u001b[49m\u001b[43m[\u001b[49m\u001b[43m[\u001b[49m\u001b[33;43m'\u001b[39;49m\u001b[33;43mDIRECTORIO\u001b[39;49m\u001b[33;43m'\u001b[39;49m\u001b[43m,\u001b[49m\u001b[33;43m'\u001b[39;49m\u001b[33;43mSECUENCIA_P\u001b[39;49m\u001b[33;43m'\u001b[39;49m\u001b[43m,\u001b[49m\u001b[33;43m'\u001b[39;49m\u001b[33;43mSECUENCIA_ENCUESTA\u001b[39;49m\u001b[33;43m'\u001b[39;49m\u001b[43m,\u001b[49m\u001b[33;43m'\u001b[39;49m\u001b[33;43mP3051\u001b[39;49m\u001b[33;43m'\u001b[39;49m\u001b[43m]\u001b[49m\u001b[43m]\u001b[49m, \n\u001b[32m      4\u001b[39m                       on=[\u001b[33m'\u001b[39m\u001b[33mDIRECTORIO\u001b[39m\u001b[33m'\u001b[39m,\u001b[33m'\u001b[39m\u001b[33mSECUENCIA_P\u001b[39m\u001b[33m'\u001b[39m,\u001b[33m'\u001b[39m\u001b[33mSECUENCIA_ENCUESTA\u001b[39m\u001b[33m'\u001b[39m], how=\u001b[33m'\u001b[39m\u001b[33mleft\u001b[39m\u001b[33m'\u001b[39m)\n\u001b[32m      6\u001b[39m POPAYAN_H = emicron_emp[(emicron[\u001b[33m'\u001b[39m\u001b[33mP35\u001b[39m\u001b[33m'\u001b[39m] == \u001b[32m1\u001b[39m) & (emicron_emp[\u001b[33m'\u001b[39m\u001b[33mAREA\u001b[39m\u001b[33m'\u001b[39m] == \u001b[32m19\u001b[39m) & (emicron_emp[\u001b[33m'\u001b[39m\u001b[33mP3051\u001b[39m\u001b[33m'\u001b[39m] == \u001b[32m3\u001b[39m)][\u001b[33m'\u001b[39m\u001b[33mF_EXP\u001b[39m\u001b[33m'\u001b[39m].sum()\n\u001b[32m      7\u001b[39m \u001b[38;5;28mprint\u001b[39m(\u001b[33mf\u001b[39m\u001b[33m'\u001b[39m\u001b[33mCantidad de micronegocios en Popayán encabezados por hombres que fueron heredados o de tradición familiar: \u001b[39m\u001b[38;5;132;01m{\u001b[39;00mPOPAYAN_H\u001b[38;5;132;01m}\u001b[39;00m\u001b[33m'\u001b[39m)\n",
      "\u001b[36mFile \u001b[39m\u001b[32m~/.local/lib/python3.12/site-packages/pandas/core/frame.py:4113\u001b[39m, in \u001b[36mDataFrame.__getitem__\u001b[39m\u001b[34m(self, key)\u001b[39m\n\u001b[32m   4111\u001b[39m     \u001b[38;5;28;01mif\u001b[39;00m is_iterator(key):\n\u001b[32m   4112\u001b[39m         key = \u001b[38;5;28mlist\u001b[39m(key)\n\u001b[32m-> \u001b[39m\u001b[32m4113\u001b[39m     indexer = \u001b[38;5;28;43mself\u001b[39;49m\u001b[43m.\u001b[49m\u001b[43mcolumns\u001b[49m\u001b[43m.\u001b[49m\u001b[43m_get_indexer_strict\u001b[49m\u001b[43m(\u001b[49m\u001b[43mkey\u001b[49m\u001b[43m,\u001b[49m\u001b[43m \u001b[49m\u001b[33;43m\"\u001b[39;49m\u001b[33;43mcolumns\u001b[39;49m\u001b[33;43m\"\u001b[39;49m\u001b[43m)\u001b[49m[\u001b[32m1\u001b[39m]\n\u001b[32m   4115\u001b[39m \u001b[38;5;66;03m# take() does not accept boolean indexers\u001b[39;00m\n\u001b[32m   4116\u001b[39m \u001b[38;5;28;01mif\u001b[39;00m \u001b[38;5;28mgetattr\u001b[39m(indexer, \u001b[33m\"\u001b[39m\u001b[33mdtype\u001b[39m\u001b[33m\"\u001b[39m, \u001b[38;5;28;01mNone\u001b[39;00m) == \u001b[38;5;28mbool\u001b[39m:\n",
      "\u001b[36mFile \u001b[39m\u001b[32m~/.local/lib/python3.12/site-packages/pandas/core/indexes/base.py:6212\u001b[39m, in \u001b[36mIndex._get_indexer_strict\u001b[39m\u001b[34m(self, key, axis_name)\u001b[39m\n\u001b[32m   6209\u001b[39m \u001b[38;5;28;01melse\u001b[39;00m:\n\u001b[32m   6210\u001b[39m     keyarr, indexer, new_indexer = \u001b[38;5;28mself\u001b[39m._reindex_non_unique(keyarr)\n\u001b[32m-> \u001b[39m\u001b[32m6212\u001b[39m \u001b[38;5;28;43mself\u001b[39;49m\u001b[43m.\u001b[49m\u001b[43m_raise_if_missing\u001b[49m\u001b[43m(\u001b[49m\u001b[43mkeyarr\u001b[49m\u001b[43m,\u001b[49m\u001b[43m \u001b[49m\u001b[43mindexer\u001b[49m\u001b[43m,\u001b[49m\u001b[43m \u001b[49m\u001b[43maxis_name\u001b[49m\u001b[43m)\u001b[49m\n\u001b[32m   6214\u001b[39m keyarr = \u001b[38;5;28mself\u001b[39m.take(indexer)\n\u001b[32m   6215\u001b[39m \u001b[38;5;28;01mif\u001b[39;00m \u001b[38;5;28misinstance\u001b[39m(key, Index):\n\u001b[32m   6216\u001b[39m     \u001b[38;5;66;03m# GH 42790 - Preserve name from an Index\u001b[39;00m\n",
      "\u001b[36mFile \u001b[39m\u001b[32m~/.local/lib/python3.12/site-packages/pandas/core/indexes/base.py:6264\u001b[39m, in \u001b[36mIndex._raise_if_missing\u001b[39m\u001b[34m(self, key, indexer, axis_name)\u001b[39m\n\u001b[32m   6261\u001b[39m     \u001b[38;5;28;01mraise\u001b[39;00m \u001b[38;5;167;01mKeyError\u001b[39;00m(\u001b[33mf\u001b[39m\u001b[33m\"\u001b[39m\u001b[33mNone of [\u001b[39m\u001b[38;5;132;01m{\u001b[39;00mkey\u001b[38;5;132;01m}\u001b[39;00m\u001b[33m] are in the [\u001b[39m\u001b[38;5;132;01m{\u001b[39;00maxis_name\u001b[38;5;132;01m}\u001b[39;00m\u001b[33m]\u001b[39m\u001b[33m\"\u001b[39m)\n\u001b[32m   6263\u001b[39m not_found = \u001b[38;5;28mlist\u001b[39m(ensure_index(key)[missing_mask.nonzero()[\u001b[32m0\u001b[39m]].unique())\n\u001b[32m-> \u001b[39m\u001b[32m6264\u001b[39m \u001b[38;5;28;01mraise\u001b[39;00m \u001b[38;5;167;01mKeyError\u001b[39;00m(\u001b[33mf\u001b[39m\u001b[33m\"\u001b[39m\u001b[38;5;132;01m{\u001b[39;00mnot_found\u001b[38;5;132;01m}\u001b[39;00m\u001b[33m not in index\u001b[39m\u001b[33m\"\u001b[39m)\n",
      "\u001b[31mKeyError\u001b[39m: \"['P3051'] not in index\""
     ]
    }
   ],
   "source": [
    "# ¿Cuántos de los micronegocios en la ciudad de Popayán encabezados por hombres fueron heredados o de tradición familiar?\n",
    "\n",
    "emicron_emp = pd.merge(emicron[['DIRECTORIO','SECUENCIA_P','SECUENCIA_ENCUESTA','P3051']], \n",
    "                      on=['DIRECTORIO','SECUENCIA_P','SECUENCIA_ENCUESTA'], how='left')\n",
    "\n",
    "POPAYAN_H = emicron_emp[(emicron['P35'] == 1) & (emicron_emp['AREA'] == 19) & (emicron_emp['P3051'] == 3)]['F_EXP'].sum()\n",
    "print(f'Cantidad de micronegocios en Popayán encabezados por hombres que fueron heredados o de tradición familiar: {POPAYAN_H}')"
   ]
  }
 ],
 "metadata": {
  "kernelspec": {
   "display_name": "Python 3",
   "language": "python",
   "name": "python3"
  },
  "language_info": {
   "codemirror_mode": {
    "name": "ipython",
    "version": 3
   },
   "file_extension": ".py",
   "mimetype": "text/x-python",
   "name": "python",
   "nbconvert_exporter": "python",
   "pygments_lexer": "ipython3",
   "version": "3.12.1"
  }
 },
 "nbformat": 4,
 "nbformat_minor": 5
}

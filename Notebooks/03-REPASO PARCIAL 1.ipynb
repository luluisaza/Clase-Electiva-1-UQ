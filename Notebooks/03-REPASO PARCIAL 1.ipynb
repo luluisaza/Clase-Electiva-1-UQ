{
 "cells": [
  {
   "cell_type": "code",
   "execution_count": 1,
   "id": "a20d9577",
   "metadata": {},
   "outputs": [],
   "source": [
    "import pandas as pd\n",
    "import numpy as np"
   ]
  },
  {
   "cell_type": "code",
   "execution_count": 2,
   "id": "9a989741",
   "metadata": {},
   "outputs": [
    {
     "data": {
      "text/html": [
       "<div>\n",
       "<style scoped>\n",
       "    .dataframe tbody tr th:only-of-type {\n",
       "        vertical-align: middle;\n",
       "    }\n",
       "\n",
       "    .dataframe tbody tr th {\n",
       "        vertical-align: top;\n",
       "    }\n",
       "\n",
       "    .dataframe thead th {\n",
       "        text-align: right;\n",
       "    }\n",
       "</style>\n",
       "<table border=\"1\" class=\"dataframe\">\n",
       "  <thead>\n",
       "    <tr style=\"text-align: right;\">\n",
       "      <th></th>\n",
       "      <th>DIRECTORIO</th>\n",
       "      <th>SECUENCIA_P</th>\n",
       "      <th>SECUENCIA_ENCUESTA</th>\n",
       "      <th>COD_DEPTO</th>\n",
       "      <th>AREA</th>\n",
       "      <th>CLASE_TE</th>\n",
       "      <th>P35</th>\n",
       "      <th>P241</th>\n",
       "      <th>MES_REF</th>\n",
       "      <th>P3031</th>\n",
       "      <th>P3032_1</th>\n",
       "      <th>P3032_2</th>\n",
       "      <th>P3032_3</th>\n",
       "      <th>P3033</th>\n",
       "      <th>P3034</th>\n",
       "      <th>P3035</th>\n",
       "      <th>P3000</th>\n",
       "      <th>GRUPOS4</th>\n",
       "      <th>GRUPOS12</th>\n",
       "      <th>F_EXP</th>\n",
       "    </tr>\n",
       "  </thead>\n",
       "  <tbody>\n",
       "    <tr>\n",
       "      <th>0</th>\n",
       "      <td>7627444</td>\n",
       "      <td>1</td>\n",
       "      <td>1</td>\n",
       "      <td>44</td>\n",
       "      <td>NaN</td>\n",
       "      <td>2</td>\n",
       "      <td>2</td>\n",
       "      <td>33</td>\n",
       "      <td>ENERO</td>\n",
       "      <td>2</td>\n",
       "      <td>NaN</td>\n",
       "      <td>NaN</td>\n",
       "      <td>NaN</td>\n",
       "      <td>2</td>\n",
       "      <td>240</td>\n",
       "      <td>2</td>\n",
       "      <td>2</td>\n",
       "      <td>2</td>\n",
       "      <td>3</td>\n",
       "      <td>60.050515</td>\n",
       "    </tr>\n",
       "    <tr>\n",
       "      <th>1</th>\n",
       "      <td>7627446</td>\n",
       "      <td>1</td>\n",
       "      <td>1</td>\n",
       "      <td>44</td>\n",
       "      <td>NaN</td>\n",
       "      <td>2</td>\n",
       "      <td>1</td>\n",
       "      <td>31</td>\n",
       "      <td>ENERO</td>\n",
       "      <td>2</td>\n",
       "      <td>NaN</td>\n",
       "      <td>NaN</td>\n",
       "      <td>NaN</td>\n",
       "      <td>2</td>\n",
       "      <td>166</td>\n",
       "      <td>2</td>\n",
       "      <td>2</td>\n",
       "      <td>1</td>\n",
       "      <td>1</td>\n",
       "      <td>86.341075</td>\n",
       "    </tr>\n",
       "    <tr>\n",
       "      <th>2</th>\n",
       "      <td>7627449</td>\n",
       "      <td>1</td>\n",
       "      <td>1</td>\n",
       "      <td>68</td>\n",
       "      <td>NaN</td>\n",
       "      <td>1</td>\n",
       "      <td>2</td>\n",
       "      <td>42</td>\n",
       "      <td>ENERO</td>\n",
       "      <td>2</td>\n",
       "      <td>NaN</td>\n",
       "      <td>NaN</td>\n",
       "      <td>NaN</td>\n",
       "      <td>2</td>\n",
       "      <td>60</td>\n",
       "      <td>2</td>\n",
       "      <td>2</td>\n",
       "      <td>3</td>\n",
       "      <td>5</td>\n",
       "      <td>139.884518</td>\n",
       "    </tr>\n",
       "    <tr>\n",
       "      <th>3</th>\n",
       "      <td>7627453</td>\n",
       "      <td>1</td>\n",
       "      <td>2</td>\n",
       "      <td>68</td>\n",
       "      <td>NaN</td>\n",
       "      <td>1</td>\n",
       "      <td>2</td>\n",
       "      <td>41</td>\n",
       "      <td>ENERO</td>\n",
       "      <td>2</td>\n",
       "      <td>NaN</td>\n",
       "      <td>NaN</td>\n",
       "      <td>NaN</td>\n",
       "      <td>2</td>\n",
       "      <td>60</td>\n",
       "      <td>2</td>\n",
       "      <td>2</td>\n",
       "      <td>4</td>\n",
       "      <td>7</td>\n",
       "      <td>168.635440</td>\n",
       "    </tr>\n",
       "    <tr>\n",
       "      <th>4</th>\n",
       "      <td>7627456</td>\n",
       "      <td>1</td>\n",
       "      <td>3</td>\n",
       "      <td>68</td>\n",
       "      <td>NaN</td>\n",
       "      <td>1</td>\n",
       "      <td>1</td>\n",
       "      <td>18</td>\n",
       "      <td>ENERO</td>\n",
       "      <td>2</td>\n",
       "      <td>NaN</td>\n",
       "      <td>NaN</td>\n",
       "      <td>NaN</td>\n",
       "      <td>2</td>\n",
       "      <td>9</td>\n",
       "      <td>2</td>\n",
       "      <td>2</td>\n",
       "      <td>4</td>\n",
       "      <td>6</td>\n",
       "      <td>64.659273</td>\n",
       "    </tr>\n",
       "  </tbody>\n",
       "</table>\n",
       "</div>"
      ],
      "text/plain": [
       "   DIRECTORIO  SECUENCIA_P  SECUENCIA_ENCUESTA  COD_DEPTO  AREA  CLASE_TE  \\\n",
       "0     7627444            1                   1         44   NaN         2   \n",
       "1     7627446            1                   1         44   NaN         2   \n",
       "2     7627449            1                   1         68   NaN         1   \n",
       "3     7627453            1                   2         68   NaN         1   \n",
       "4     7627456            1                   3         68   NaN         1   \n",
       "\n",
       "   P35  P241 MES_REF  P3031  P3032_1  P3032_2  P3032_3  P3033  P3034  P3035  \\\n",
       "0    2    33   ENERO      2      NaN      NaN      NaN      2    240      2   \n",
       "1    1    31   ENERO      2      NaN      NaN      NaN      2    166      2   \n",
       "2    2    42   ENERO      2      NaN      NaN      NaN      2     60      2   \n",
       "3    2    41   ENERO      2      NaN      NaN      NaN      2     60      2   \n",
       "4    1    18   ENERO      2      NaN      NaN      NaN      2      9      2   \n",
       "\n",
       "   P3000  GRUPOS4  GRUPOS12       F_EXP  \n",
       "0      2        2         3   60.050515  \n",
       "1      2        1         1   86.341075  \n",
       "2      2        3         5  139.884518  \n",
       "3      2        4         7  168.635440  \n",
       "4      2        4         6   64.659273  "
      ]
     },
     "execution_count": 2,
     "metadata": {},
     "output_type": "execute_result"
    }
   ],
   "source": [
    "repaso_parcial = 'https://github.com/niconomist98/DataAnalyticsUQ/raw/refs/heads/main/Datos/EMICRON/emicron_identificacion.csv'\n",
    "emicron=pd.read_csv(repaso_parcial)\n",
    "emicron.head()"
   ]
  },
  {
   "cell_type": "markdown",
   "id": "10acac7f",
   "metadata": {},
   "source": [
    "1. Calcule la cantidad de micronegocios que hay en el dpto del Quindío encabezada por hombres y mujeres entre los 18 y los 28 años "
   ]
  },
  {
   "cell_type": "code",
   "execution_count": 3,
   "id": "b6a2db71",
   "metadata": {},
   "outputs": [
    {
     "name": "stdout",
     "output_type": "stream",
     "text": [
      "Cantidad de micronegocios en el Quindío encabezados por hombres entre los 18 y 28 años: 1531.3166836231612\n",
      "Cantidad de micronegocios en el Quindío encabezados por mujeres entre los 18 y 28 años: 2281.821516484595\n"
     ]
    }
   ],
   "source": [
    "QH1828 = emicron[(emicron['COD_DEPTO'] == 63) & (emicron['P35'] == 1) & (emicron['P241'] >=18) & (emicron['P241'] <=28)]['F_EXP'].sum()\n",
    "print(f'Cantidad de micronegocios en el Quindío encabezados por hombres entre los 18 y 28 años: {QH1828}')\n",
    "\n",
    "QM1828 = emicron[(emicron['COD_DEPTO'] == 63) & (emicron['P35'] == 2) & (emicron['P241'] >=18) & (emicron['P241'] <=28)]['F_EXP'].sum()\n",
    "print(f'Cantidad de micronegocios en el Quindío encabezados por mujeres entre los 18 y 28 años: {QM1828}')\n"
   ]
  },
  {
   "cell_type": "markdown",
   "id": "78b150a0",
   "metadata": {},
   "source": [
    "2. ¿Cuál es la ciudad en la que existen más micronegocios encabezados por hombres entre los 20 y 30 años?"
   ]
  },
  {
   "cell_type": "code",
   "execution_count": 4,
   "id": "497c85ef",
   "metadata": {},
   "outputs": [
    {
     "name": "stdout",
     "output_type": "stream",
     "text": [
      "La ciudad con más micronegocios encabezados por hombres entre los 20 y 30 años es: 5.0 con 46673.06740102969 micronegocios.\n"
     ]
    }
   ],
   "source": [
    "emicron['AREA'].value_counts()\n",
    "CIUDAD_MH = emicron[(emicron['P35'] == 1) & (emicron['P241'] >=20) & (emicron['P241'] <=30)].groupby('AREA')['F_EXP'].sum().reset_index()\n",
    "CIUDAD_MH = CIUDAD_MH.sort_values(by='F_EXP', ascending=False).head(1)\n",
    "print(f'La ciudad con más micronegocios encabezados por hombres entre los 20 y 30 años es: {CIUDAD_MH.iloc[0,0]} con {CIUDAD_MH.iloc[0,1]} micronegocios.')"
   ]
  },
  {
   "cell_type": "markdown",
   "id": "821f6e39",
   "metadata": {},
   "source": [
    "3. En el departamento del Tolima, ¿Cuántos micronegocios existen encabezados por mujeres que no tienen una persona que les ayude?"
   ]
  },
  {
   "cell_type": "code",
   "execution_count": 5,
   "id": "63ef4f68",
   "metadata": {},
   "outputs": [
    {
     "name": "stdout",
     "output_type": "stream",
     "text": [
      "Cantidad de micronegocios en el Tolima encabezados por mujeres que no tienen quién les ayude: 28203.211514115817\n"
     ]
    }
   ],
   "source": [
    "DEPTO_TM = emicron[(emicron['P35'] == 2) & (emicron['COD_DEPTO'] == 73) & (emicron['P3031'] == 2)]['F_EXP'].sum()\n",
    "print(f'Cantidad de micronegocios en el Tolima encabezados por mujeres que no tienen quién les ayude: {DEPTO_TM}')"
   ]
  },
  {
   "cell_type": "markdown",
   "id": "259b3723",
   "metadata": {},
   "source": [
    "4. ¿Cuántos micronegocios hay en la ciudad de Bogotá encabezados por mujeres que estén en el sector de la industria manufacturera?"
   ]
  },
  {
   "cell_type": "code",
   "execution_count": 6,
   "id": "ba3c7261",
   "metadata": {},
   "outputs": [
    {
     "name": "stdout",
     "output_type": "stream",
     "text": [
      "Cantidad de micronegocios en Bogotá D.C. del sector manufacturero encabezados por mujeres: 24601.108849640357\n"
     ]
    }
   ],
   "source": [
    "IND_MANU_MM = emicron[(emicron['P35'] == 2) & (emicron['GRUPOS12'] == 3) & (emicron['COD_DEPTO'] == 11)]['F_EXP'].sum()\n",
    "print(f'Cantidad de micronegocios en Bogotá D.C. del sector manufacturero encabezados por mujeres: {IND_MANU_MM}')"
   ]
  },
  {
   "cell_type": "markdown",
   "id": "24fe14ca",
   "metadata": {},
   "source": [
    "5. Formular pregunta creativa con mínimo 2 variables "
   ]
  }
 ],
 "metadata": {
  "kernelspec": {
   "display_name": "Python 3",
   "language": "python",
   "name": "python3"
  },
  "language_info": {
   "codemirror_mode": {
    "name": "ipython",
    "version": 3
   },
   "file_extension": ".py",
   "mimetype": "text/x-python",
   "name": "python",
   "nbconvert_exporter": "python",
   "pygments_lexer": "ipython3",
   "version": "3.12.1"
  }
 },
 "nbformat": 4,
 "nbformat_minor": 5
}
